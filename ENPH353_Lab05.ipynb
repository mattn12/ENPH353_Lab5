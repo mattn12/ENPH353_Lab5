{
  "cells": [
    {
      "cell_type": "markdown",
      "metadata": {
        "id": "view-in-github",
        "colab_type": "text"
      },
      "source": [
        "<a href=\"https://colab.research.google.com/github/mattn12/ENPH353_Lab5/blob/main/ENPH353_Lab05.ipynb\" target=\"_parent\"><img src=\"https://colab.research.google.com/assets/colab-badge.svg\" alt=\"Open In Colab\"/></a>"
      ]
    },
    {
      "cell_type": "markdown",
      "metadata": {
        "id": "KSk9aCdYJGL5"
      },
      "source": [
        "# ENPH 353 Lab 5 - Character Recogition\n"
      ]
    },
    {
      "cell_type": "markdown",
      "metadata": {
        "id": "TASHcorgJANo"
      },
      "source": [
        "## Import Packages"
      ]
    },
    {
      "cell_type": "code",
      "execution_count": 55,
      "metadata": {
        "id": "i6RTCDKv1uUN"
      },
      "outputs": [],
      "source": [
        "import string\n",
        "import random\n",
        "from random import randint\n",
        "import cv2\n",
        "import numpy as np\n",
        "import os\n",
        "import math\n",
        "import re\n",
        "\n",
        "from PIL import Image, ImageFont, ImageDraw\n",
        "from collections import Counter\n",
        "from matplotlib import pyplot as plt\n",
        "from google.colab.patches import cv2_imshow\n",
        "\n",
        "from tensorflow.keras import layers\n",
        "from tensorflow.keras import models\n",
        "from tensorflow.keras import optimizers\n",
        "\n",
        "from tensorflow.keras.utils import plot_model\n",
        "from tensorflow.keras import backend\n",
        "\n",
        "from ipywidgets import interact\n",
        "import ipywidgets as ipywidgets\n",
        "\n",
        "from sklearn.metrics import confusion_matrix\n",
        "import pandas as pd\n",
        "import seaborn as sn\n"
      ]
    },
    {
      "cell_type": "markdown",
      "metadata": {
        "id": "44zu-SGYalEw"
      },
      "source": [
        "## License Plate Generator"
      ]
    },
    {
      "cell_type": "code",
      "execution_count": 31,
      "metadata": {
        "id": "ENidRuKm14S_"
      },
      "outputs": [],
      "source": [
        "# Run this command only once:\n",
        "\n",
        "# makes the output folder /content/pictures/\n",
        "#!mkdir pictures"
      ]
    },
    {
      "cell_type": "code",
      "execution_count": null,
      "metadata": {
        "colab": {
          "base_uri": "https://localhost:8080/"
        },
        "id": "TvR3Yd_0HCOA",
        "outputId": "cdd2694d-5035-4b63-b36c-326c3729dd2f"
      },
      "outputs": [
        {
          "name": "stdout",
          "output_type": "stream",
          "text": [
            "/usr/local/lib/python3.7/dist-packages/gdown/cli.py:131: FutureWarning: Option `--id` was deprecated in version 4.3.1 and will be removed in 5.0. You don't need to pass it anymore to use a file ID.\n",
            "  category=FutureWarning,\n",
            "Downloading...\n",
            "From: https://drive.google.com/uc?id=1Q_FsX2z6DaDCLM91qGZzwvctaW9bN60v\n",
            "To: /content/blank_plate.png\n",
            "100% 144k/144k [00:00<00:00, 70.4MB/s]\n"
          ]
        }
      ],
      "source": [
        "# Run this command only once\n",
        "\n",
        "# Downloads the license plate template to /content/blank_plate.png\n",
        "#!gdown --id 1Q_FsX2z6DaDCLM91qGZzwvctaW9bN60v"
      ]
    },
    {
      "cell_type": "code",
      "execution_count": 32,
      "metadata": {
        "id": "4kh3ZKFb1U1F"
      },
      "outputs": [],
      "source": [
        "path = \"/content/\"\n",
        "\n",
        "NUMBER_OF_PLATES = 500\n",
        "\n",
        "for i in range(0, NUMBER_OF_PLATES):\n",
        "  # Pick two random letters\n",
        "  plate_alpha = \"\"\n",
        "  for _ in range(0, 2):\n",
        "      plate_alpha += (random.choice(string.ascii_uppercase))\n",
        "\n",
        "  # Pick two random numbers\n",
        "  num = randint(0, 99)\n",
        "  plate_num = \"{:02d}\".format(num)\n",
        "    \n",
        "  # Write plate to image\n",
        "  blank_plate = cv2.imread(path+'blank_plate.png')\n",
        "\n",
        "  # Convert into a PIL image (this is so we can use the monospaced fonts)\n",
        "  blank_plate_pil = Image.fromarray(blank_plate)\n",
        "\n",
        "  # Get a drawing context\n",
        "  draw = ImageDraw.Draw(blank_plate_pil)\n",
        "  monospace = ImageFont.truetype(font=\"/usr/share/fonts/truetype/liberation/LiberationMono-Regular.ttf\", \n",
        "                                  size=165)\n",
        "  draw.text(xy=(48, 75),\n",
        "            text=plate_alpha + \" \" + plate_num ,\n",
        "            fill=(255,0,0), font=monospace)\n",
        "\n",
        "  # Convert back to OpenCV image and save\n",
        "  blank_plate = np.array(blank_plate_pil)\n",
        "\n",
        "  # Write license plate to file\n",
        "  cv2.imwrite(os.path.join(path + \"pictures/\", \n",
        "                            \"plate_{}{}.png\".format(plate_alpha,plate_num)),\n",
        "                            blank_plate)"
      ]
    },
    {
      "cell_type": "markdown",
      "metadata": {
        "id": "fMhiYtt7jKvl"
      },
      "source": [
        "## Authorize Google Drive Access"
      ]
    },
    {
      "cell_type": "code",
      "execution_count": 33,
      "metadata": {
        "colab": {
          "base_uri": "https://localhost:8080/"
        },
        "id": "twDd8RNJtmAD",
        "outputId": "89d53acc-66a1-472b-e0ef-daeb0f190e5f"
      },
      "outputs": [
        {
          "output_type": "stream",
          "name": "stdout",
          "text": [
            "Drive already mounted at /content/drive; to attempt to forcibly remount, call drive.mount(\"/content/drive\", force_remount=True).\n"
          ]
        }
      ],
      "source": [
        "from google.colab import drive\n",
        "drive.mount('/content/drive')"
      ]
    },
    {
      "cell_type": "markdown",
      "metadata": {
        "id": "RzzzJCMrbP03"
      },
      "source": [
        "## Retrieve File Names of Plates\n"
      ]
    },
    {
      "cell_type": "code",
      "execution_count": 34,
      "metadata": {
        "id": "Uz0wwzOPHV58"
      },
      "outputs": [],
      "source": [
        "folder = \"/content/pictures\"\n",
        "labels_raw = !ls \"{folder}\"\n",
        "labels = labels_raw[0].split()\n",
        "#print(labels_raw)"
      ]
    },
    {
      "cell_type": "code",
      "execution_count": 35,
      "metadata": {
        "colab": {
          "base_uri": "https://localhost:8080/"
        },
        "id": "-huXcG5flJpq",
        "outputId": "4ead3026-6cfe-43b1-901d-15cda8ee2f30"
      },
      "outputs": [
        {
          "output_type": "stream",
          "name": "stdout",
          "text": [
            "['plate_AC70.png', 'plate_AD44.png', 'plate_AD85.png', 'plate_AE93.png', 'plate_AF63.png', 'plate_AF96.png', 'plate_AH80.png', 'plate_AJ47.png', 'plate_AM02.png', 'plate_AN54.png', 'plate_AR18.png', 'plate_AS17.png', 'plate_AU29.png', 'plate_AX04.png', 'plate_AY67.png', 'plate_AY69.png', 'plate_AZ81.png', 'plate_AZ86.png', 'plate_BA68.png', 'plate_BA92.png', 'plate_BC48.png', 'plate_BD98.png', 'plate_BF55.png', 'plate_BF66.png', 'plate_BH25.png', 'plate_BH48.png', 'plate_BH90.png', 'plate_BI40.png', 'plate_BK59.png', 'plate_BL37.png', 'plate_BM72.png', 'plate_BM98.png', 'plate_BP55.png', 'plate_BP83.png', 'plate_BP96.png', 'plate_BQ30.png', 'plate_BQ75.png', 'plate_BS50.png', 'plate_BS78.png', 'plate_BT31.png', 'plate_BU98.png', 'plate_BV75.png', 'plate_BW52.png', 'plate_BX07.png', 'plate_BX73.png', 'plate_BZ95.png', 'plate_CA58.png', 'plate_CC90.png', 'plate_CD77.png', 'plate_CE26.png', 'plate_CH06.png', 'plate_CI57.png', 'plate_CK78.png', 'plate_CS73.png', 'plate_CT34.png', 'plate_CT92.png', 'plate_CV10.png', 'plate_CV91.png', 'plate_CW48.png', 'plate_CW91.png', 'plate_CX66.png', 'plate_CY68.png', 'plate_CZ44.png', 'plate_DA67.png', 'plate_DA87.png', 'plate_DC17.png', 'plate_DC23.png', 'plate_DG66.png', 'plate_DH94.png', 'plate_DI36.png', 'plate_DI87.png', 'plate_DJ91.png', 'plate_DL56.png', 'plate_DO62.png', 'plate_DP71.png', 'plate_DQ93.png', 'plate_DU91.png', 'plate_DV89.png', 'plate_DV97.png', 'plate_DW42.png', 'plate_DW84.png', 'plate_DX70.png', 'plate_DZ41.png', 'plate_EB81.png', 'plate_EC15.png', 'plate_EC28.png', 'plate_EF52.png', 'plate_EF63.png', 'plate_EG36.png', 'plate_EG80.png', 'plate_EG98.png', 'plate_EI62.png', 'plate_EI82.png', 'plate_EK29.png', 'plate_EO87.png', 'plate_ES01.png', 'plate_EU21.png', 'plate_EV97.png', 'plate_EW02.png', 'plate_EW47.png', 'plate_EZ40.png', 'plate_FA02.png', 'plate_FD64.png', 'plate_FE65.png', 'plate_FK13.png', 'plate_FL02.png', 'plate_FL92.png', 'plate_FL99.png', 'plate_FN45.png', 'plate_FN91.png', 'plate_FO14.png', 'plate_FO50.png', 'plate_FP58.png', 'plate_FQ81.png', 'plate_FR28.png', 'plate_FS02.png', 'plate_FS79.png', 'plate_FS96.png', 'plate_FT28.png', 'plate_FU64.png', 'plate_FV01.png', 'plate_FV65.png', 'plate_FY65.png', 'plate_FY92.png', 'plate_FZ92.png', 'plate_GB25.png', 'plate_GB65.png', 'plate_GC05.png', 'plate_GD30.png', 'plate_GI57.png', 'plate_GJ64.png', 'plate_GJ69.png', 'plate_GJ75.png', 'plate_GK74.png', 'plate_GK81.png', 'plate_GM01.png', 'plate_GP30.png', 'plate_GR28.png', 'plate_GT31.png', 'plate_GV59.png', 'plate_GW44.png', 'plate_GW64.png', 'plate_GW93.png', 'plate_GZ03.png', 'plate_HA35.png', 'plate_HC72.png', 'plate_HE20.png', 'plate_HG07.png', 'plate_HK16.png', 'plate_HL11.png', 'plate_HL29.png', 'plate_HN05.png', 'plate_HP54.png', 'plate_HQ23.png', 'plate_HQ94.png', 'plate_HT89.png', 'plate_HT92.png', 'plate_HV53.png', 'plate_HV62.png', 'plate_HV90.png', 'plate_HX17.png', 'plate_HY98.png', 'plate_HZ48.png', 'plate_IA48.png', 'plate_IB64.png', 'plate_ID95.png', 'plate_IF65.png', 'plate_IF67.png', 'plate_IG05.png', 'plate_IH32.png', 'plate_IH40.png', 'plate_II06.png', 'plate_II11.png', 'plate_IJ81.png', 'plate_IK24.png', 'plate_IN23.png', 'plate_IS37.png', 'plate_IS81.png', 'plate_IS86.png', 'plate_IV77.png', 'plate_IW64.png', 'plate_IY92.png', 'plate_JA06.png', 'plate_JC16.png', 'plate_JC64.png', 'plate_JD50.png', 'plate_JE34.png', 'plate_JF01.png', 'plate_JF22.png', 'plate_JH23.png', 'plate_JK22.png', 'plate_JN55.png', 'plate_JO86.png', 'plate_JQ20.png', 'plate_JS28.png', 'plate_JT36.png', 'plate_JT43.png', 'plate_JT52.png', 'plate_JU75.png', 'plate_JU91.png', 'plate_JV54.png', 'plate_JZ81.png', 'plate_KF42.png', 'plate_KG10.png', 'plate_KJ18.png', 'plate_KL20.png', 'plate_KN29.png', 'plate_KN93.png', 'plate_KO84.png', 'plate_KR10.png', 'plate_KU32.png', 'plate_KV70.png', 'plate_KX07.png', 'plate_KX44.png', 'plate_KY64.png', 'plate_LB04.png', 'plate_LB14.png', 'plate_LC25.png', 'plate_LD67.png', 'plate_LD86.png', 'plate_LF84.png', 'plate_LH34.png', 'plate_LJ08.png', 'plate_LK07.png', 'plate_LL86.png', 'plate_LM97.png', 'plate_LN34.png', 'plate_LN96.png', 'plate_LS45.png', 'plate_LT08.png', 'plate_LU52.png', 'plate_LV86.png', 'plate_LW80.png', 'plate_LW87.png', 'plate_LZ07.png', 'plate_MA43.png', 'plate_MA95.png', 'plate_MD62.png', 'plate_MF98.png', 'plate_MG92.png', 'plate_MI62.png', 'plate_MI75.png', 'plate_MJ22.png', 'plate_MJ46.png', 'plate_ML17.png', 'plate_MM58.png', 'plate_MN09.png', 'plate_MO49.png', 'plate_MQ06.png', 'plate_MU08.png', 'plate_MX03.png', 'plate_MX51.png', 'plate_MZ40.png', 'plate_MZ80.png', 'plate_NA26.png', 'plate_NG14.png', 'plate_NK47.png', 'plate_NM08.png', 'plate_NM15.png', 'plate_NM81.png', 'plate_NN24.png', 'plate_NO11.png', 'plate_NP94.png', 'plate_NR81.png', 'plate_NR91.png', 'plate_NT18.png', 'plate_NU52.png', 'plate_NU86.png', 'plate_NX30.png', 'plate_NZ73.png', 'plate_OA61.png', 'plate_OC12.png', 'plate_OE30.png', 'plate_OJ38.png', 'plate_OK09.png', 'plate_OK95.png', 'plate_OL12.png', 'plate_OL91.png', 'plate_OP87.png', 'plate_OQ93.png', 'plate_OR33.png', 'plate_OR79.png', 'plate_OS09.png', 'plate_OT25.png', 'plate_OT68.png', 'plate_OU85.png', 'plate_OY84.png', 'plate_OZ33.png', 'plate_OZ97.png', 'plate_OZ99.png', 'plate_PB58.png', 'plate_PD44.png', 'plate_PE73.png', 'plate_PG08.png', 'plate_PG18.png', 'plate_PJ70.png', 'plate_PK85.png', 'plate_PL07.png', 'plate_PL26.png', 'plate_PQ85.png', 'plate_PT08.png', 'plate_PT60.png', 'plate_PW64.png', 'plate_PX05.png', 'plate_QA58.png', 'plate_QA80.png', 'plate_QA93.png', 'plate_QE12.png', 'plate_QH85.png', 'plate_QK17.png', 'plate_QL45.png', 'plate_QL47.png', 'plate_QL48.png', 'plate_QM13.png', 'plate_QM70.png', 'plate_QM82.png', 'plate_QM99.png', 'plate_QP72.png', 'plate_QS08.png', 'plate_QS43.png', 'plate_QT01.png', 'plate_QT78.png', 'plate_QU38.png', 'plate_QV16.png', 'plate_QW00.png', 'plate_QY19.png', 'plate_RB64.png', 'plate_RC98.png', 'plate_RD99.png', 'plate_RE39.png', 'plate_RG74.png', 'plate_RM05.png', 'plate_RM47.png', 'plate_RP30.png', 'plate_RP34.png', 'plate_RU74.png', 'plate_RU97.png', 'plate_RX42.png', 'plate_RX87.png', 'plate_RZ09.png', 'plate_RZ87.png', 'plate_RZ88.png', 'plate_SA97.png', 'plate_SC79.png', 'plate_SE05.png', 'plate_SE06.png', 'plate_SE25.png', 'plate_SF33.png', 'plate_SN28.png', 'plate_SO10.png', 'plate_SO18.png', 'plate_SO68.png', 'plate_SQ19.png', 'plate_SR22.png', 'plate_SS44.png', 'plate_SU25.png', 'plate_SW43.png', 'plate_SX02.png', 'plate_SY07.png', 'plate_SZ91.png', 'plate_TH39.png', 'plate_TI29.png', 'plate_TL89.png', 'plate_TO16.png', 'plate_TO96.png', 'plate_TQ70.png', 'plate_TR42.png', 'plate_TU18.png', 'plate_TV56.png', 'plate_TV75.png', 'plate_TW21.png', 'plate_TW38.png', 'plate_TX78.png', 'plate_TZ02.png', 'plate_UA06.png', 'plate_UA19.png', 'plate_UA21.png', 'plate_UB71.png', 'plate_UC53.png', 'plate_UE01.png', 'plate_UG47.png', 'plate_UI14.png', 'plate_UK48.png', 'plate_UL31.png', 'plate_UL80.png', 'plate_UP63.png', 'plate_US24.png', 'plate_UT97.png', 'plate_UV62.png', 'plate_UW62.png', 'plate_UY67.png', 'plate_UZ69.png', 'plate_VD18.png', 'plate_VD46.png', 'plate_VE54.png', 'plate_VF55.png', 'plate_VG00.png', 'plate_VG37.png', 'plate_VG79.png', 'plate_VI39.png', 'plate_VK75.png', 'plate_VK82.png', 'plate_VL85.png', 'plate_VN03.png', 'plate_VO12.png', 'plate_VP94.png', 'plate_VU99.png', 'plate_VV25.png', 'plate_VW07.png', 'plate_VW37.png', 'plate_VW85.png', 'plate_WF44.png', 'plate_WP59.png', 'plate_WP97.png', 'plate_WQ56.png', 'plate_WQ91.png', 'plate_WR12.png', 'plate_WS77.png', 'plate_WT50.png', 'plate_WU78.png', 'plate_WV01.png', 'plate_WW39.png', 'plate_WX24.png', 'plate_WX60.png', 'plate_WY18.png', 'plate_XA88.png', 'plate_XB29.png', 'plate_XB48.png', 'plate_XB73.png', 'plate_XC53.png', 'plate_XE90.png', 'plate_XE99.png', 'plate_XG86.png', 'plate_XH49.png', 'plate_XI05.png', 'plate_XJ65.png', 'plate_XL30.png', 'plate_XM32.png', 'plate_XP01.png', 'plate_XP26.png', 'plate_XR94.png', 'plate_XS47.png', 'plate_XS94.png', 'plate_XT61.png', 'plate_XT63.png', 'plate_XW23.png', 'plate_XX88.png', 'plate_XY71.png', 'plate_YA34.png', 'plate_YC80.png', 'plate_YC97.png', 'plate_YE93.png', 'plate_YF38.png', 'plate_YG15.png', 'plate_YH19.png', 'plate_YH22.png', 'plate_YH37.png', 'plate_YH71.png', 'plate_YH76.png', 'plate_YI65.png', 'plate_YJ88.png', 'plate_YL19.png', 'plate_YL62.png', 'plate_YL79.png', 'plate_YM26.png', 'plate_YN71.png', 'plate_YO52.png', 'plate_YP21.png', 'plate_YR51.png', 'plate_YR91.png', 'plate_YT09.png', 'plate_YT40.png', 'plate_YT44.png', 'plate_YU67.png', 'plate_YW67.png', 'plate_YY34.png', 'plate_YY72.png', 'plate_YZ77.png', 'plate_YZ91.png', 'plate_ZA80.png', 'plate_ZC15.png', 'plate_ZC61.png', 'plate_ZD82.png', 'plate_ZH29.png', 'plate_ZH60.png', 'plate_ZL74.png', 'plate_ZL80.png', 'plate_ZM83.png', 'plate_ZN91.png', 'plate_ZO32.png', 'plate_ZP11.png', 'plate_ZP46.png', 'plate_ZQ04.png', 'plate_ZS51.png', 'plate_ZU48.png', 'plate_ZY10.png', 'plate_ZZ86.png']\n"
          ]
        }
      ],
      "source": [
        "def files_in_folder(folder_path):\n",
        "  '''\n",
        "  Returns a list of strings where each entry is a file in the folder_path.\n",
        "  \n",
        "  Parameters\n",
        "  ----------\n",
        "  \n",
        "  folder_path : str\n",
        "     A string to folder for which the file listing is returned.\n",
        "     \n",
        "  '''\n",
        "  files_A = !ls \"{folder_path}\"\n",
        "  # The files when listed from Google Drive have a particular format. They are\n",
        "  # grouped in sets of 4 and have spaces and tabs as delimiters.\n",
        "  \n",
        "  # Split the string listing sets of 4 files by tab and space and remove any \n",
        "  # empty splits.\n",
        "  files_B = [list(filter(None, re.split('\\t|\\s', files))) for files in files_A]\n",
        "  \n",
        "  # Concatenate all splits into a single sorted list\n",
        "  files_C = []\n",
        "  for element in files_B:\n",
        "    files_C = files_C + element\n",
        "  files_C.sort()\n",
        "  \n",
        "  return files_C\n",
        "\n",
        "files = files_in_folder(folder)\n",
        "\n",
        "print(files)"
      ]
    },
    {
      "cell_type": "markdown",
      "metadata": {
        "id": "goq2l3tFJb0i"
      },
      "source": [
        "## Slice Images"
      ]
    },
    {
      "cell_type": "code",
      "execution_count": 36,
      "metadata": {
        "id": "B47pjcC15Fc0"
      },
      "outputs": [],
      "source": [
        "#cropping settings\n",
        "top = 100\n",
        "bottom = 220\n",
        "left = 47"
      ]
    },
    {
      "cell_type": "code",
      "execution_count": 37,
      "metadata": {
        "id": "xLzTAeoasomQ"
      },
      "outputs": [],
      "source": [
        "value = 0\n",
        "dataset = []\n",
        "\n",
        "for plate in files:\n",
        "  #read and crop plate\n",
        "  path = f\"{folder}/{plate}\"\n",
        "  img = cv2.imread(path, cv2.IMREAD_COLOR)\n",
        "  img = img[top:bottom,left:]\n",
        "  \n",
        "  allchars = \"ABCDEFGHIJKLMNOPQRSTUVWXYZ0123456789\"\n",
        "\n",
        "  #slice every letter\n",
        "  letter1 = [img[:,0:100], allchars.find(path[24])]\n",
        "\n",
        "  letter2 = [img[:,100:200], allchars.find(path[25])]\n",
        "               \n",
        "  letter3 = [img[:,300:400], allchars.find(path[26])]\n",
        "\n",
        "  letter4 = [img[:,400:500], allchars.find(path[27])]\n",
        "\n",
        "  dataset.append(letter1)\n",
        "  dataset.append(letter2)\n",
        "  dataset.append(letter3)\n",
        "  dataset.append(letter4)\n"
      ]
    },
    {
      "cell_type": "code",
      "execution_count": 38,
      "metadata": {
        "id": "mXx94JGq69h7"
      },
      "outputs": [],
      "source": [
        "def convert_to_one_hot(Y, C):\n",
        "    Y = np.eye(C)[Y.reshape(-1)].T\n",
        "    return Y"
      ]
    },
    {
      "cell_type": "markdown",
      "metadata": {
        "id": "gDmRuuTEJiUJ"
      },
      "source": [
        "## Create Datasets for Neural Net"
      ]
    },
    {
      "cell_type": "code",
      "execution_count": 39,
      "metadata": {
        "id": "f-I-GGUYbV2Z"
      },
      "outputs": [],
      "source": [
        "# Shuffle the dataset\n",
        "np.random.shuffle(dataset)\n",
        "\n",
        "# Genereate X and Y datasets\n",
        "X_dataset_orig = np.array([data[0] for data in dataset])\n",
        "Y_dataset_orig = np.array([[data[1]] for data in dataset]).T\n",
        "\n",
        "NUMBER_OF_LABELS = 36\n",
        "CONFIDENCE_THRESHOLD = 0.01\n",
        "\n",
        "# Normalize X (images) dataset\n",
        "X_dataset = X_dataset_orig/255.\n",
        "\n",
        "# Convert Y dataset to one-hot encoding\n",
        "Y_dataset = convert_to_one_hot(Y_dataset_orig, NUMBER_OF_LABELS).T\n",
        "\n"
      ]
    },
    {
      "cell_type": "code",
      "execution_count": 40,
      "metadata": {
        "colab": {
          "base_uri": "https://localhost:8080/"
        },
        "id": "6I3m8PJsuO5c",
        "outputId": "3b0f2d81-871e-4f15-80b3-cfbdaaee7a99"
      },
      "outputs": [
        {
          "output_type": "stream",
          "name": "stdout",
          "text": [
            "Total examples: 1988\n",
            "Training examples: 1591\n",
            "Test examples: 397\n",
            "X shape: (1988, 120, 100, 3)\n",
            "Y shape: (1988, 36)\n"
          ]
        }
      ],
      "source": [
        "VALIDATION_SPLIT = 0.2\n",
        "\n",
        "print(\"Total examples: {:d}\\nTraining examples: {:d}\\nTest examples: {:d}\".\n",
        "      format(X_dataset.shape[0],\n",
        "             math.ceil(X_dataset.shape[0] * (1-VALIDATION_SPLIT)),\n",
        "             math.floor(X_dataset.shape[0] * VALIDATION_SPLIT)))\n",
        "print(\"X shape: \" + str(X_dataset.shape))\n",
        "print(\"Y shape: \" + str(Y_dataset.shape))"
      ]
    },
    {
      "cell_type": "markdown",
      "metadata": {
        "id": "dDPwBKHaJrK0"
      },
      "source": [
        "## Building Neural Net"
      ]
    },
    {
      "cell_type": "code",
      "execution_count": 41,
      "metadata": {
        "id": "pOGcRKdQxtmQ"
      },
      "outputs": [],
      "source": [
        "def reset_weights(model):\n",
        "  for ix, layer in enumerate(model.layers):\n",
        "      if (hasattr(model.layers[ix], 'kernel_initializer') and \n",
        "          hasattr(model.layers[ix], 'bias_initializer')):\n",
        "          weight_initializer = model.layers[ix].kernel_initializer\n",
        "          bias_initializer = model.layers[ix].bias_initializer\n",
        "\n",
        "          old_weights, old_biases = model.layers[ix].get_weights()\n",
        "\n",
        "          model.layers[ix].set_weights([\n",
        "              weight_initializer(shape=old_weights.shape),\n",
        "              bias_initializer(shape=len(old_biases))])"
      ]
    },
    {
      "cell_type": "code",
      "execution_count": 42,
      "metadata": {
        "id": "eK8ARM9Sxw0g"
      },
      "outputs": [],
      "source": [
        "conv_model = models.Sequential()\n",
        "conv_model.add(layers.Conv2D(32, (3, 3), activation='relu',\n",
        "                             input_shape=(120, 100, 3)))\n",
        "conv_model.add(layers.MaxPooling2D((2, 2)))\n",
        "conv_model.add(layers.Conv2D(64, (3, 3), activation='relu'))\n",
        "conv_model.add(layers.MaxPooling2D((2, 2)))\n",
        "conv_model.add(layers.Flatten())\n",
        "conv_model.add(layers.Dropout(0.5))\n",
        "conv_model.add(layers.Dense(512, activation='relu'))\n",
        "conv_model.add(layers.Dense(36, activation='softmax'))"
      ]
    },
    {
      "cell_type": "code",
      "execution_count": 43,
      "metadata": {
        "id": "g8ZXjTGqx9Z9",
        "colab": {
          "base_uri": "https://localhost:8080/"
        },
        "outputId": "59d77ff7-59c0-47b0-b046-d1ce48abb041"
      },
      "outputs": [
        {
          "output_type": "stream",
          "name": "stdout",
          "text": [
            "Model: \"sequential_1\"\n",
            "_________________________________________________________________\n",
            " Layer (type)                Output Shape              Param #   \n",
            "=================================================================\n",
            " conv2d_2 (Conv2D)           (None, 118, 98, 32)       896       \n",
            "                                                                 \n",
            " max_pooling2d_2 (MaxPooling  (None, 59, 49, 32)       0         \n",
            " 2D)                                                             \n",
            "                                                                 \n",
            " conv2d_3 (Conv2D)           (None, 57, 47, 64)        18496     \n",
            "                                                                 \n",
            " max_pooling2d_3 (MaxPooling  (None, 28, 23, 64)       0         \n",
            " 2D)                                                             \n",
            "                                                                 \n",
            " flatten_1 (Flatten)         (None, 41216)             0         \n",
            "                                                                 \n",
            " dropout_1 (Dropout)         (None, 41216)             0         \n",
            "                                                                 \n",
            " dense_2 (Dense)             (None, 512)               21103104  \n",
            "                                                                 \n",
            " dense_3 (Dense)             (None, 36)                18468     \n",
            "                                                                 \n",
            "=================================================================\n",
            "Total params: 21,140,964\n",
            "Trainable params: 21,140,964\n",
            "Non-trainable params: 0\n",
            "_________________________________________________________________\n"
          ]
        }
      ],
      "source": [
        "conv_model.summary()"
      ]
    },
    {
      "cell_type": "code",
      "execution_count": 44,
      "metadata": {
        "colab": {
          "base_uri": "https://localhost:8080/"
        },
        "id": "OlcDepm1yFHb",
        "outputId": "7896128c-881a-4e4f-a302-6fbf53a91c75"
      },
      "outputs": [
        {
          "output_type": "stream",
          "name": "stderr",
          "text": [
            "/usr/local/lib/python3.7/dist-packages/keras/optimizers/optimizer_v2/rmsprop.py:135: UserWarning: The `lr` argument is deprecated, use `learning_rate` instead.\n",
            "  super(RMSprop, self).__init__(name, **kwargs)\n"
          ]
        }
      ],
      "source": [
        "LEARNING_RATE = 1e-4\n",
        "conv_model.compile(loss='categorical_crossentropy',\n",
        "                   optimizer=optimizers.RMSprop(lr=LEARNING_RATE),\n",
        "                   metrics=['acc'])"
      ]
    },
    {
      "cell_type": "markdown",
      "metadata": {
        "id": "gZAfUXDpJ1Mg"
      },
      "source": [
        "## Reset Weights"
      ]
    },
    {
      "cell_type": "code",
      "execution_count": 45,
      "metadata": {
        "id": "v8t6JzTYyIBG"
      },
      "outputs": [],
      "source": [
        "reset_weights(conv_model)"
      ]
    },
    {
      "cell_type": "markdown",
      "metadata": {
        "id": "8-ntIQXNJ4nP"
      },
      "source": [
        "## Train Neural Net"
      ]
    },
    {
      "cell_type": "code",
      "execution_count": 46,
      "metadata": {
        "id": "OBHCZr3NyLec",
        "colab": {
          "base_uri": "https://localhost:8080/"
        },
        "outputId": "a8e87306-c1e4-4095-8414-699f53174bc5"
      },
      "outputs": [
        {
          "output_type": "stream",
          "name": "stdout",
          "text": [
            "Epoch 1/20\n",
            "100/100 [==============================] - 46s 451ms/step - loss: 0.8588 - acc: 0.8107 - val_loss: 0.1323 - val_acc: 0.9799\n",
            "Epoch 2/20\n",
            "100/100 [==============================] - 47s 472ms/step - loss: 0.0689 - acc: 0.9843 - val_loss: 0.0328 - val_acc: 0.9849\n",
            "Epoch 3/20\n",
            "100/100 [==============================] - 46s 464ms/step - loss: 0.0484 - acc: 0.9818 - val_loss: 0.0498 - val_acc: 0.9849\n",
            "Epoch 4/20\n",
            "100/100 [==============================] - 45s 449ms/step - loss: 0.0333 - acc: 0.9836 - val_loss: 0.0346 - val_acc: 0.9799\n",
            "Epoch 5/20\n",
            "100/100 [==============================] - 47s 466ms/step - loss: 0.0248 - acc: 0.9868 - val_loss: 0.0148 - val_acc: 0.9874\n",
            "Epoch 6/20\n",
            "100/100 [==============================] - 45s 449ms/step - loss: 0.0125 - acc: 0.9943 - val_loss: 0.0055 - val_acc: 1.0000\n",
            "Epoch 7/20\n",
            "100/100 [==============================] - 47s 469ms/step - loss: 0.0078 - acc: 0.9975 - val_loss: 0.0080 - val_acc: 1.0000\n",
            "Epoch 8/20\n",
            "100/100 [==============================] - 45s 449ms/step - loss: 0.0035 - acc: 0.9994 - val_loss: 0.0235 - val_acc: 0.9849\n",
            "Epoch 9/20\n",
            "100/100 [==============================] - 47s 472ms/step - loss: 0.0022 - acc: 0.9987 - val_loss: 0.0046 - val_acc: 1.0000\n",
            "Epoch 10/20\n",
            "100/100 [==============================] - 46s 460ms/step - loss: 0.0012 - acc: 0.9994 - val_loss: 9.9190e-05 - val_acc: 1.0000\n",
            "Epoch 11/20\n",
            "100/100 [==============================] - 47s 472ms/step - loss: 4.4485e-04 - acc: 1.0000 - val_loss: 4.1728e-05 - val_acc: 1.0000\n",
            "Epoch 12/20\n",
            "100/100 [==============================] - 45s 448ms/step - loss: 4.1426e-04 - acc: 1.0000 - val_loss: 2.8592e-05 - val_acc: 1.0000\n",
            "Epoch 13/20\n",
            "100/100 [==============================] - 50s 499ms/step - loss: 1.0298e-04 - acc: 1.0000 - val_loss: 8.5935e-06 - val_acc: 1.0000\n",
            "Epoch 14/20\n",
            "100/100 [==============================] - 47s 471ms/step - loss: 5.9800e-05 - acc: 1.0000 - val_loss: 3.3703e-06 - val_acc: 1.0000\n",
            "Epoch 15/20\n",
            "100/100 [==============================] - 46s 456ms/step - loss: 6.5853e-06 - acc: 1.0000 - val_loss: 1.0038e-04 - val_acc: 1.0000\n",
            "Epoch 16/20\n",
            "100/100 [==============================] - 45s 453ms/step - loss: 2.5690e-05 - acc: 1.0000 - val_loss: 3.0042e-07 - val_acc: 1.0000\n",
            "Epoch 17/20\n",
            "100/100 [==============================] - 49s 495ms/step - loss: 4.1618e-06 - acc: 1.0000 - val_loss: 4.6066e-07 - val_acc: 1.0000\n",
            "Epoch 18/20\n",
            "100/100 [==============================] - 51s 514ms/step - loss: 5.2238e-07 - acc: 1.0000 - val_loss: 4.8822e-08 - val_acc: 1.0000\n",
            "Epoch 19/20\n",
            "100/100 [==============================] - 47s 472ms/step - loss: 1.9478e-07 - acc: 1.0000 - val_loss: 1.9469e-08 - val_acc: 1.0000\n",
            "Epoch 20/20\n",
            "100/100 [==============================] - 47s 472ms/step - loss: 2.3992e-08 - acc: 1.0000 - val_loss: 6.5895e-09 - val_acc: 1.0000\n"
          ]
        }
      ],
      "source": [
        "history_conv = conv_model.fit(X_dataset, Y_dataset, \n",
        "                              validation_split=VALIDATION_SPLIT, \n",
        "                              epochs=20, \n",
        "                              batch_size=16)"
      ]
    },
    {
      "cell_type": "code",
      "execution_count": 47,
      "metadata": {
        "colab": {
          "base_uri": "https://localhost:8080/",
          "height": 295
        },
        "id": "Fat4XAdfyNpx",
        "outputId": "97a791a4-4fe3-48d1-c48d-d1e9691926af"
      },
      "outputs": [
        {
          "output_type": "display_data",
          "data": {
            "text/plain": [
              "<Figure size 432x288 with 1 Axes>"
            ],
            "image/png": "[encoded data removed]"
          },
          "metadata": {
            "needs_background": "light"
          }
        }
      ],
      "source": [
        "plt.plot(history_conv.history['loss'])\n",
        "plt.plot(history_conv.history['val_loss'])\n",
        "plt.title('model loss')\n",
        "plt.ylabel('loss')\n",
        "plt.xlabel('epoch')\n",
        "plt.legend(['train loss', 'val loss'], loc='upper left')\n",
        "plt.show()"
      ]
    },
    {
      "cell_type": "code",
      "execution_count": 48,
      "metadata": {
        "colab": {
          "base_uri": "https://localhost:8080/",
          "height": 295
        },
        "id": "de5lHvl72CkQ",
        "outputId": "4fd125fb-5f06-4d9d-d94b-a6c5e0d8d530"
      },
      "outputs": [
        {
          "output_type": "display_data",
          "data": {
            "text/plain": [
              "<Figure size 432x288 with 1 Axes>"
            ],
            "image/png": "[encoded data removed]"
          },
          "metadata": {
            "needs_background": "light"
          }
        }
      ],
      "source": [
        "plt.plot(history_conv.history['acc'])\n",
        "plt.plot(history_conv.history['val_acc'])\n",
        "plt.title('model accuracy')\n",
        "plt.ylabel('accuracy (%)')\n",
        "plt.xlabel('epoch')\n",
        "plt.legend(['train accuracy', 'val accuracy'], loc='upper left')\n",
        "plt.show()"
      ]
    },
    {
      "cell_type": "markdown",
      "metadata": {
        "id": "VRmZwOzAJ-Lv"
      },
      "source": [
        "## Predicting Letters"
      ]
    },
    {
      "cell_type": "code",
      "execution_count": 49,
      "metadata": {
        "colab": {
          "base_uri": "https://localhost:8080/",
          "height": 415,
          "referenced_widgets": [
            "7d2a54497fd746e982decb9fce90f108",
            "83fd595dd8964674b8f612464f53c085",
            "3078865dbf2f48afa1ff74545b1408b7",
            "65235bbfeb784e389b765cb13e5698c2",
            "9db91051b6904cd48a4d570cdeb09870",
            "e7b21c257f3d478fafab184f4990dc87",
            "1e7ef240323a4e7a8b978cb3f5ed6a9a"
          ]
        },
        "id": "qqENm-ZD2MP0",
        "outputId": "cdda190f-689f-431a-d15c-53b752b7d05f"
      },
      "outputs": [
        {
          "output_type": "display_data",
          "data": {
            "text/plain": [
              "interactive(children=(IntSlider(value=10, description='index', max=1988), Output()), _dom_classes=('widget-int…"
            ],
            "application/vnd.jupyter.widget-view+json": {
              "version_major": 2,
              "version_minor": 0,
              "model_id": "7d2a54497fd746e982decb9fce90f108"
            }
          },
          "metadata": {}
        },
        {
          "output_type": "execute_result",
          "data": {
            "text/plain": [
              "<function __main__.displayImage(index)>"
            ]
          },
          "metadata": {},
          "execution_count": 49
        }
      ],
      "source": [
        "# Display images in the training data set. \n",
        "def displayImage(index):\n",
        "  img = X_dataset[index]\n",
        "  # xpands image by one dimension\n",
        "  img_aug = np.expand_dims(img, axis=0)\n",
        "  # *not sure why we need to expand the img to predict\n",
        "  y_predict = conv_model.predict(img_aug)\n",
        "  \n",
        "  # display the image to predict\n",
        "  plt.imshow(img)  \n",
        "  \n",
        "  # print and compare input and predicted character along with confidence\n",
        "  caption = (\"Input: \" + str(allchars[np.argmax(Y_dataset[index])])\n",
        "                            + \"\\nPredicted: \" + str(allchars[np.argmax(y_predict)])\n",
        "                            + \"\\nConfidence: \" + str(np.amax(y_predict)) + \"\\n\") \n",
        "  \n",
        "  # text settings in plot\n",
        "  plt.text(0.5,0.5, caption, \n",
        "           color='orange', fontsize = 16,\n",
        "           horizontalalignment='left', verticalalignment='bottom')\n",
        "\n",
        "# slider for choosing character to recognize\n",
        "interact(displayImage, \n",
        "        index=ipywidgets.IntSlider(min=0, max=X_dataset_orig.shape[0],\n",
        "                                   step=1, value=10))\n"
      ]
    },
    {
      "cell_type": "markdown",
      "metadata": {
        "id": "Wh3l6HVOScwX"
      },
      "source": [
        "## Confusion Matrix"
      ]
    },
    {
      "cell_type": "code",
      "execution_count": 52,
      "metadata": {
        "colab": {
          "base_uri": "https://localhost:8080/"
        },
        "id": "IMdT939gSfVx",
        "outputId": "efb10cdf-e27e-459b-801f-5e1af2534567"
      },
      "outputs": [
        {
          "output_type": "stream",
          "name": "stdout",
          "text": [
            "63/63 [==============================] - 10s 163ms/step\n"
          ]
        }
      ],
      "source": [
        "#get set of all predictions using X_dataset\n",
        "predictions = conv_model.predict(X_dataset)"
      ]
    },
    {
      "cell_type": "code",
      "execution_count": 58,
      "metadata": {
        "id": "8df897SmUMvu",
        "colab": {
          "base_uri": "https://localhost:8080/",
          "height": 609
        },
        "outputId": "9ce0e81b-24ea-402e-983a-db475655ef33"
      },
      "outputs": [
        {
          "output_type": "execute_result",
          "data": {
            "text/plain": [
              "<matplotlib.axes._subplots.AxesSubplot at 0x7fdf340d8610>"
            ]
          },
          "metadata": {},
          "execution_count": 58
        },
        {
          "output_type": "display_data",
          "data": {
            "text/plain": [
              "<Figure size 1440x720 with 2 Axes>"
            ],
            "image/png": "[encoded data removed]"
          },
          "metadata": {
            "needs_background": "light"
          }
        }
      ],
      "source": [
        "y_true = []\n",
        "y_pred = []\n",
        "\n",
        "# creates arrays of true chars and the predicted chars\n",
        "for i in range(len(Y_dataset)):\n",
        "  y_true.append(allchars[np.argmax(Y_dataset[i])])\n",
        "  y_pred.append(allchars[np.argmax(predictions[i])])\n",
        "\n",
        "# make the confusion matrix (i (rows): true, j (cols): predict)\n",
        "cm = confusion_matrix(y_true, y_pred)\n",
        "# dataframe for confusion matrix, (ie \"axis ticks\")\n",
        "df_cm = pd.DataFrame(cm, index = [i for i in allchars],\n",
        "                  columns = [i for i in allchars])\n",
        "plt.figure(figsize = (20,10))\n",
        "# plot heatmap of confusion matrix\n",
        "sn.heatmap(df_cm, annot=True)"
      ]
    }
  ],
  "metadata": {
    "accelerator": "GPU",
    "colab": {
      "collapsed_sections": [
        "TASHcorgJANo",
        "44zu-SGYalEw",
        "fMhiYtt7jKvl",
        "RzzzJCMrbP03",
        "goq2l3tFJb0i",
        "gDmRuuTEJiUJ"
      ],
      "provenance": [],
      "include_colab_link": true
    },
    "kernelspec": {
      "display_name": "Python 3",
      "name": "python3"
    },
    "widgets": {
      "application/vnd.jupyter.widget-state+json": {
        "7d2a54497fd746e982decb9fce90f108": {
          "model_module": "@jupyter-widgets/controls",
          "model_name": "VBoxModel",
          "model_module_version": "1.5.0",
          "state": {
            "_dom_classes": [
              "widget-interact"
            ],
            "_model_module": "@jupyter-widgets/controls",
            "_model_module_version": "1.5.0",
            "_model_name": "VBoxModel",
            "_view_count": null,
            "_view_module": "@jupyter-widgets/controls",
            "_view_module_version": "1.5.0",
            "_view_name": "VBoxView",
            "box_style": "",
            "children": [
              "IPY_MODEL_83fd595dd8964674b8f612464f53c085",
              "IPY_MODEL_3078865dbf2f48afa1ff74545b1408b7"
            ],
            "layout": "IPY_MODEL_65235bbfeb784e389b765cb13e5698c2"
          }
        },
        "83fd595dd8964674b8f612464f53c085": {
          "model_module": "@jupyter-widgets/controls",
          "model_name": "IntSliderModel",
          "model_module_version": "1.5.0",
          "state": {
            "_dom_classes": [],
            "_model_module": "@jupyter-widgets/controls",
            "_model_module_version": "1.5.0",
            "_model_name": "IntSliderModel",
            "_view_count": null,
            "_view_module": "@jupyter-widgets/controls",
            "_view_module_version": "1.5.0",
            "_view_name": "IntSliderView",
            "continuous_update": true,
            "description": "index",
            "description_tooltip": null,
            "disabled": false,
            "layout": "IPY_MODEL_9db91051b6904cd48a4d570cdeb09870",
            "max": 1988,
            "min": 0,
            "orientation": "horizontal",
            "readout": true,
            "readout_format": "d",
            "step": 1,
            "style": "IPY_MODEL_e7b21c257f3d478fafab184f4990dc87",
            "value": 1465
          }
        },
        "3078865dbf2f48afa1ff74545b1408b7": {
          "model_module": "@jupyter-widgets/output",
          "model_name": "OutputModel",
          "model_module_version": "1.0.0",
          "state": {
            "_dom_classes": [],
            "_model_module": "@jupyter-widgets/output",
            "_model_module_version": "1.0.0",
            "_model_name": "OutputModel",
            "_view_count": null,
            "_view_module": "@jupyter-widgets/output",
            "_view_module_version": "1.0.0",
            "_view_name": "OutputView",
            "layout": "IPY_MODEL_1e7ef240323a4e7a8b978cb3f5ed6a9a",
            "msg_id": "",
            "outputs": [
              {
                "output_type": "stream",
                "name": "stdout",
                "text": [
                  "\r1/1 [==============================] - ETA: 0s"
                ]
              },
              {
                "output_type": "stream",
                "name": "stdout",
                "text": [
                  "\b\b\b\b\b\b\b\b\b\b\b\b\b\b\b\b\b\b\b\b\b\b\b\b\b\b\b\b\b\b\b\b\b\b\b\b\b\b\b\b\b\b\b\b\b\b\r1/1 [==============================] - 0s 44ms/step\n"
                ]
              },
              {
                "output_type": "display_data",
                "data": {
                  "text/plain": "<Figure size 432x288 with 1 Axes>",
                  "image/png": "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\n"
                },
                "metadata": {
                  "needs_background": "light"
                }
              }
            ]
          }
        },
        "65235bbfeb784e389b765cb13e5698c2": {
          "model_module": "@jupyter-widgets/base",
          "model_name": "LayoutModel",
          "model_module_version": "1.2.0",
          "state": {
            "_model_module": "@jupyter-widgets/base",
            "_model_module_version": "1.2.0",
            "_model_name": "LayoutModel",
            "_view_count": null,
            "_view_module": "@jupyter-widgets/base",
            "_view_module_version": "1.2.0",
            "_view_name": "LayoutView",
            "align_content": null,
            "align_items": null,
            "align_self": null,
            "border": null,
            "bottom": null,
            "display": null,
            "flex": null,
            "flex_flow": null,
            "grid_area": null,
            "grid_auto_columns": null,
            "grid_auto_flow": null,
            "grid_auto_rows": null,
            "grid_column": null,
            "grid_gap": null,
            "grid_row": null,
            "grid_template_areas": null,
            "grid_template_columns": null,
            "grid_template_rows": null,
            "height": null,
            "justify_content": null,
            "justify_items": null,
            "left": null,
            "margin": null,
            "max_height": null,
            "max_width": null,
            "min_height": null,
            "min_width": null,
            "object_fit": null,
            "object_position": null,
            "order": null,
            "overflow": null,
            "overflow_x": null,
            "overflow_y": null,
            "padding": null,
            "right": null,
            "top": null,
            "visibility": null,
            "width": null
          }
        },
        "9db91051b6904cd48a4d570cdeb09870": {
          "model_module": "@jupyter-widgets/base",
          "model_name": "LayoutModel",
          "model_module_version": "1.2.0",
          "state": {
            "_model_module": "@jupyter-widgets/base",
            "_model_module_version": "1.2.0",
            "_model_name": "LayoutModel",
            "_view_count": null,
            "_view_module": "@jupyter-widgets/base",
            "_view_module_version": "1.2.0",
            "_view_name": "LayoutView",
            "align_content": null,
            "align_items": null,
            "align_self": null,
            "border": null,
            "bottom": null,
            "display": null,
            "flex": null,
            "flex_flow": null,
            "grid_area": null,
            "grid_auto_columns": null,
            "grid_auto_flow": null,
            "grid_auto_rows": null,
            "grid_column": null,
            "grid_gap": null,
            "grid_row": null,
            "grid_template_areas": null,
            "grid_template_columns": null,
            "grid_template_rows": null,
            "height": null,
            "justify_content": null,
            "justify_items": null,
            "left": null,
            "margin": null,
            "max_height": null,
            "max_width": null,
            "min_height": null,
            "min_width": null,
            "object_fit": null,
            "object_position": null,
            "order": null,
            "overflow": null,
            "overflow_x": null,
            "overflow_y": null,
            "padding": null,
            "right": null,
            "top": null,
            "visibility": null,
            "width": null
          }
        },
        "e7b21c257f3d478fafab184f4990dc87": {
          "model_module": "@jupyter-widgets/controls",
          "model_name": "SliderStyleModel",
          "model_module_version": "1.5.0",
          "state": {
            "_model_module": "@jupyter-widgets/controls",
            "_model_module_version": "1.5.0",
            "_model_name": "SliderStyleModel",
            "_view_count": null,
            "_view_module": "@jupyter-widgets/base",
            "_view_module_version": "1.2.0",
            "_view_name": "StyleView",
            "description_width": "",
            "handle_color": null
          }
        },
        "1e7ef240323a4e7a8b978cb3f5ed6a9a": {
          "model_module": "@jupyter-widgets/base",
          "model_name": "LayoutModel",
          "model_module_version": "1.2.0",
          "state": {
            "_model_module": "@jupyter-widgets/base",
            "_model_module_version": "1.2.0",
            "_model_name": "LayoutModel",
            "_view_count": null,
            "_view_module": "@jupyter-widgets/base",
            "_view_module_version": "1.2.0",
            "_view_name": "LayoutView",
            "align_content": null,
            "align_items": null,
            "align_self": null,
            "border": null,
            "bottom": null,
            "display": null,
            "flex": null,
            "flex_flow": null,
            "grid_area": null,
            "grid_auto_columns": null,
            "grid_auto_flow": null,
            "grid_auto_rows": null,
            "grid_column": null,
            "grid_gap": null,
            "grid_row": null,
            "grid_template_areas": null,
            "grid_template_columns": null,
            "grid_template_rows": null,
            "height": null,
            "justify_content": null,
            "justify_items": null,
            "left": null,
            "margin": null,
            "max_height": null,
            "max_width": null,
            "min_height": null,
            "min_width": null,
            "object_fit": null,
            "object_position": null,
            "order": null,
            "overflow": null,
            "overflow_x": null,
            "overflow_y": null,
            "padding": null,
            "right": null,
            "top": null,
            "visibility": null,
            "width": null
          }
        }
      }
    }
  },
  "nbformat": 4,
  "nbformat_minor": 0
}