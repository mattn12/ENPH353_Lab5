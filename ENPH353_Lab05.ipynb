{
  "cells": [
    {
      "cell_type": "markdown",
      "metadata": {
        "id": "view-in-github",
        "colab_type": "text"
      },
      "source": [
        "<a href=\"https://colab.research.google.com/github/mattn12/ENPH353_Lab5/blob/main/ENPH353_Lab05.ipynb\" target=\"_parent\"><img src=\"https://colab.research.google.com/assets/colab-badge.svg\" alt=\"Open In Colab\"/></a>"
      ]
    },
    {
      "cell_type": "markdown",
      "source": [
        "# ENPH 353 Lab 5 - Character Recogition\n"
      ],
      "metadata": {
        "id": "KSk9aCdYJGL5"
      }
    },
    {
      "cell_type": "markdown",
      "source": [
        "## Import Packages"
      ],
      "metadata": {
        "id": "TASHcorgJANo"
      }
    },
    {
      "cell_type": "code",
      "execution_count": 5,
      "metadata": {
        "id": "i6RTCDKv1uUN"
      },
      "outputs": [],
      "source": [
        "import string\n",
        "import random\n",
        "from random import randint\n",
        "import cv2\n",
        "import numpy as np\n",
        "import os\n",
        "import math\n",
        "import re\n",
        "\n",
        "from PIL import Image, ImageFont, ImageDraw\n",
        "from collections import Counter\n",
        "from matplotlib import pyplot as plt\n",
        "from google.colab.patches import cv2_imshow\n",
        "\n",
        "from tensorflow.keras import layers\n",
        "from tensorflow.keras import models\n",
        "from tensorflow.keras import optimizers\n",
        "\n",
        "from tensorflow.keras.utils import plot_model\n",
        "from tensorflow.keras import backend\n",
        "\n",
        "from ipywidgets import interact\n",
        "import ipywidgets as ipywidgets\n"
      ]
    },
    {
      "cell_type": "markdown",
      "metadata": {
        "id": "44zu-SGYalEw"
      },
      "source": [
        "## License Plate Generator"
      ]
    },
    {
      "cell_type": "code",
      "execution_count": 6,
      "metadata": {
        "id": "ENidRuKm14S_"
      },
      "outputs": [],
      "source": [
        "# Run this command only once:\n",
        "\n",
        "# makes the output folder /content/pictures/\n",
        "#!mkdir pictures"
      ]
    },
    {
      "cell_type": "code",
      "execution_count": 7,
      "metadata": {
        "id": "TvR3Yd_0HCOA",
        "colab": {
          "base_uri": "https://localhost:8080/"
        },
        "outputId": "cdd2694d-5035-4b63-b36c-326c3729dd2f"
      },
      "outputs": [
        {
          "output_type": "stream",
          "name": "stdout",
          "text": [
            "/usr/local/lib/python3.7/dist-packages/gdown/cli.py:131: FutureWarning: Option `--id` was deprecated in version 4.3.1 and will be removed in 5.0. You don't need to pass it anymore to use a file ID.\n",
            "  category=FutureWarning,\n",
            "Downloading...\n",
            "From: https://drive.google.com/uc?id=1Q_FsX2z6DaDCLM91qGZzwvctaW9bN60v\n",
            "To: /content/blank_plate.png\n",
            "100% 144k/144k [00:00<00:00, 70.4MB/s]\n"
          ]
        }
      ],
      "source": [
        "# Run this command only once\n",
        "\n",
        "# Downloads the license plate template to /content/blank_plate.png\n",
        "#!gdown --id 1Q_FsX2z6DaDCLM91qGZzwvctaW9bN60v"
      ]
    },
    {
      "cell_type": "code",
      "execution_count": 8,
      "metadata": {
        "id": "4kh3ZKFb1U1F"
      },
      "outputs": [],
      "source": [
        "path = \"/content/\"\n",
        "\n",
        "NUMBER_OF_PLATES = 1000\n",
        "\n",
        "for i in range(0, NUMBER_OF_PLATES):\n",
        "  # Pick two random letters\n",
        "  plate_alpha = \"\"\n",
        "  for _ in range(0, 2):\n",
        "      plate_alpha += (random.choice(string.ascii_uppercase))\n",
        "\n",
        "  # Pick two random numbers\n",
        "  num = randint(0, 99)\n",
        "  plate_num = \"{:02d}\".format(num)\n",
        "    \n",
        "  # Write plate to image\n",
        "  blank_plate = cv2.imread(path+'blank_plate.png')\n",
        "\n",
        "  # Convert into a PIL image (this is so we can use the monospaced fonts)\n",
        "  blank_plate_pil = Image.fromarray(blank_plate)\n",
        "\n",
        "  # Get a drawing context\n",
        "  draw = ImageDraw.Draw(blank_plate_pil)\n",
        "  monospace = ImageFont.truetype(font=\"/usr/share/fonts/truetype/liberation/LiberationMono-Regular.ttf\", \n",
        "                                  size=165)\n",
        "  draw.text(xy=(48, 75),\n",
        "            text=plate_alpha + \" \" + plate_num ,\n",
        "            fill=(255,0,0), font=monospace)\n",
        "\n",
        "  # Convert back to OpenCV image and save\n",
        "  blank_plate = np.array(blank_plate_pil)\n",
        "\n",
        "  # Write license plate to file\n",
        "  cv2.imwrite(os.path.join(path + \"pictures/\", \n",
        "                            \"plate_{}{}.png\".format(plate_alpha,plate_num)),\n",
        "                            blank_plate)"
      ]
    },
    {
      "cell_type": "markdown",
      "metadata": {
        "id": "fMhiYtt7jKvl"
      },
      "source": [
        "## Authorize Google Drive Access"
      ]
    },
    {
      "cell_type": "code",
      "execution_count": 9,
      "metadata": {
        "colab": {
          "base_uri": "https://localhost:8080/"
        },
        "id": "twDd8RNJtmAD",
        "outputId": "81d2b61c-b34f-466b-bb6c-b8522132bed7"
      },
      "outputs": [
        {
          "output_type": "stream",
          "name": "stdout",
          "text": [
            "Mounted at /content/drive\n"
          ]
        }
      ],
      "source": [
        "from google.colab import drive\n",
        "drive.mount('/content/drive')"
      ]
    },
    {
      "cell_type": "markdown",
      "metadata": {
        "id": "RzzzJCMrbP03"
      },
      "source": [
        "## Retrieve File Names of Plates\n"
      ]
    },
    {
      "cell_type": "code",
      "execution_count": 10,
      "metadata": {
        "id": "Uz0wwzOPHV58"
      },
      "outputs": [],
      "source": [
        "folder = \"/content/pictures\"\n",
        "labels_raw = !ls \"{folder}\"\n",
        "labels = labels_raw[0].split()\n",
        "#print(labels_raw)"
      ]
    },
    {
      "cell_type": "code",
      "execution_count": 11,
      "metadata": {
        "colab": {
          "base_uri": "https://localhost:8080/"
        },
        "id": "-huXcG5flJpq",
        "outputId": "5d502906-ba5e-4afc-c82c-d8eae9629363"
      },
      "outputs": [
        {
          "output_type": "stream",
          "name": "stdout",
          "text": [
            "['plate_AA07.png', 'plate_AA16.png', 'plate_AA21.png', 'plate_AA75.png', 'plate_AA93.png', 'plate_AC13.png', 'plate_AF09.png', 'plate_AG10.png', 'plate_AG13.png', 'plate_AH12.png', 'plate_AJ83.png', 'plate_AK75.png', 'plate_AL32.png', 'plate_AL44.png', 'plate_AM78.png', 'plate_AM84.png', 'plate_AN11.png', 'plate_AO45.png', 'plate_AP42.png', 'plate_AQ47.png', 'plate_AR60.png', 'plate_AR67.png', 'plate_AS05.png', 'plate_AS26.png', 'plate_AT46.png', 'plate_AT96.png', 'plate_AV52.png', 'plate_AV53.png', 'plate_AV97.png', 'plate_AW91.png', 'plate_AX25.png', 'plate_AX61.png', 'plate_AX79.png', 'plate_AY27.png', 'plate_AY56.png', 'plate_AY75.png', 'plate_AZ52.png', 'plate_BA37.png', 'plate_BA75.png', 'plate_BD80.png', 'plate_BE35.png', 'plate_BE59.png', 'plate_BE93.png', 'plate_BF08.png', 'plate_BF24.png', 'plate_BF47.png', 'plate_BF53.png', 'plate_BF66.png', 'plate_BH06.png', 'plate_BH39.png', 'plate_BI47.png', 'plate_BI95.png', 'plate_BJ11.png', 'plate_BJ43.png', 'plate_BM45.png', 'plate_BM96.png', 'plate_BN39.png', 'plate_BN74.png', 'plate_BO34.png', 'plate_BO42.png', 'plate_BP66.png', 'plate_BR09.png', 'plate_BS63.png', 'plate_BU98.png', 'plate_BV76.png', 'plate_BV95.png', 'plate_BW32.png', 'plate_BX21.png', 'plate_BX28.png', 'plate_BX77.png', 'plate_BX82.png', 'plate_BY55.png', 'plate_BY59.png', 'plate_BY86.png', 'plate_BZ99.png', 'plate_CA09.png', 'plate_CA67.png', 'plate_CB15.png', 'plate_CB26.png', 'plate_CB38.png', 'plate_CB59.png', 'plate_CC06.png', 'plate_CC10.png', 'plate_CC67.png', 'plate_CC82.png', 'plate_CD08.png', 'plate_CD92.png', 'plate_CF29.png', 'plate_CG51.png', 'plate_CG55.png', 'plate_CG66.png', 'plate_CH11.png', 'plate_CI41.png', 'plate_CI52.png', 'plate_CK94.png', 'plate_CM20.png', 'plate_CM96.png', 'plate_CN99.png', 'plate_CO00.png', 'plate_CO07.png', 'plate_CO44.png', 'plate_CQ65.png', 'plate_CR18.png', 'plate_CS04.png', 'plate_CT67.png', 'plate_CT83.png', 'plate_CT98.png', 'plate_CU46.png', 'plate_CV88.png', 'plate_CW20.png', 'plate_CW28.png', 'plate_CX22.png', 'plate_CX66.png', 'plate_CY09.png', 'plate_CY13.png', 'plate_DA09.png', 'plate_DB00.png', 'plate_DB14.png', 'plate_DB90.png', 'plate_DC46.png', 'plate_DD39.png', 'plate_DD72.png', 'plate_DE03.png', 'plate_DE33.png', 'plate_DE34.png', 'plate_DF10.png', 'plate_DF25.png', 'plate_DF26.png', 'plate_DH63.png', 'plate_DH68.png', 'plate_DH90.png', 'plate_DI48.png', 'plate_DI51.png', 'plate_DJ14.png', 'plate_DJ32.png', 'plate_DJ89.png', 'plate_DL45.png', 'plate_DN13.png', 'plate_DN96.png', 'plate_DO64.png', 'plate_DO81.png', 'plate_DP55.png', 'plate_DP60.png', 'plate_DQ38.png', 'plate_DQ72.png', 'plate_DR99.png', 'plate_DS74.png', 'plate_DV47.png', 'plate_DV92.png', 'plate_DX68.png', 'plate_DY53.png', 'plate_DY98.png', 'plate_DZ82.png', 'plate_EA43.png', 'plate_EB66.png', 'plate_EB93.png', 'plate_EF07.png', 'plate_EF10.png', 'plate_EF50.png', 'plate_EF88.png', 'plate_EG16.png', 'plate_EG33.png', 'plate_EH59.png', 'plate_EH72.png', 'plate_EL14.png', 'plate_EL52.png', 'plate_EM39.png', 'plate_EM82.png', 'plate_EN41.png', 'plate_EN71.png', 'plate_EN88.png', 'plate_EN91.png', 'plate_EO20.png', 'plate_EO36.png', 'plate_EO84.png', 'plate_EP11.png', 'plate_EP20.png', 'plate_EQ09.png', 'plate_EQ74.png', 'plate_ER10.png', 'plate_ER41.png', 'plate_EV13.png', 'plate_EV90.png', 'plate_EV99.png', 'plate_EW14.png', 'plate_EW60.png', 'plate_EX00.png', 'plate_EX05.png', 'plate_EX49.png', 'plate_EY28.png', 'plate_EY40.png', 'plate_EZ38.png', 'plate_EZ79.png', 'plate_FA60.png', 'plate_FB23.png', 'plate_FC57.png', 'plate_FD60.png', 'plate_FE84.png', 'plate_FF17.png', 'plate_FF70.png', 'plate_FG38.png', 'plate_FG42.png', 'plate_FG89.png', 'plate_FH76.png', 'plate_FI87.png', 'plate_FM06.png', 'plate_FO36.png', 'plate_FP06.png', 'plate_FP16.png', 'plate_FP47.png', 'plate_FR12.png', 'plate_FR42.png', 'plate_FR79.png', 'plate_FT11.png', 'plate_FT13.png', 'plate_FU05.png', 'plate_FU73.png', 'plate_FV98.png', 'plate_FY63.png', 'plate_FY87.png', 'plate_FZ44.png', 'plate_FZ85.png', 'plate_GA68.png', 'plate_GA86.png', 'plate_GA95.png', 'plate_GC17.png', 'plate_GE24.png', 'plate_GE36.png', 'plate_GE58.png', 'plate_GE61.png', 'plate_GF06.png', 'plate_GF55.png', 'plate_GF89.png', 'plate_GF93.png', 'plate_GI15.png', 'plate_GI24.png', 'plate_GI33.png', 'plate_GI41.png', 'plate_GI51.png', 'plate_GI90.png', 'plate_GI94.png', 'plate_GL67.png', 'plate_GL95.png', 'plate_GM89.png', 'plate_GO49.png', 'plate_GP61.png', 'plate_GP72.png', 'plate_GP77.png', 'plate_GQ25.png', 'plate_GR86.png', 'plate_GR89.png', 'plate_GS05.png', 'plate_GS19.png', 'plate_GS65.png', 'plate_GV45.png', 'plate_GW11.png', 'plate_GW61.png', 'plate_GY03.png', 'plate_GZ01.png', 'plate_GZ14.png', 'plate_GZ27.png', 'plate_HA52.png', 'plate_HA71.png', 'plate_HA88.png', 'plate_HB24.png', 'plate_HB25.png', 'plate_HB40.png', 'plate_HB68.png', 'plate_HB79.png', 'plate_HC54.png', 'plate_HD29.png', 'plate_HE54.png', 'plate_HE58.png', 'plate_HF55.png', 'plate_HF72.png', 'plate_HF92.png', 'plate_HG13.png', 'plate_HG69.png', 'plate_HH68.png', 'plate_HH91.png', 'plate_HH94.png', 'plate_HI45.png', 'plate_HJ04.png', 'plate_HK01.png', 'plate_HK35.png', 'plate_HL69.png', 'plate_HL86.png', 'plate_HM88.png', 'plate_HO16.png', 'plate_HR56.png', 'plate_HR75.png', 'plate_HS59.png', 'plate_HT33.png', 'plate_HV42.png', 'plate_HV88.png', 'plate_HX80.png', 'plate_HZ23.png', 'plate_IA17.png', 'plate_IA25.png', 'plate_IB95.png', 'plate_IC11.png', 'plate_IC73.png', 'plate_IE28.png', 'plate_IE65.png', 'plate_IF08.png', 'plate_IF20.png', 'plate_IF92.png', 'plate_IH82.png', 'plate_II84.png', 'plate_IJ50.png', 'plate_IJ91.png', 'plate_IK00.png', 'plate_IL59.png', 'plate_IM55.png', 'plate_IM90.png', 'plate_IN42.png', 'plate_IO26.png', 'plate_IO68.png', 'plate_IP42.png', 'plate_IP47.png', 'plate_IP59.png', 'plate_IP71.png', 'plate_IQ49.png', 'plate_IQ53.png', 'plate_IR58.png', 'plate_IR60.png', 'plate_IR82.png', 'plate_IS38.png', 'plate_IT22.png', 'plate_IT23.png', 'plate_IT39.png', 'plate_IT62.png', 'plate_IT85.png', 'plate_IU30.png', 'plate_IU89.png', 'plate_IV68.png', 'plate_IV99.png', 'plate_IW91.png', 'plate_IX65.png', 'plate_JB33.png', 'plate_JB97.png', 'plate_JD54.png', 'plate_JE45.png', 'plate_JF13.png', 'plate_JF84.png', 'plate_JJ36.png', 'plate_JJ97.png', 'plate_JK28.png', 'plate_JL18.png', 'plate_JL92.png', 'plate_JO52.png', 'plate_JO83.png', 'plate_JO85.png', 'plate_JP15.png', 'plate_JP35.png', 'plate_JP47.png', 'plate_JP77.png', 'plate_JQ11.png', 'plate_JQ98.png', 'plate_JR20.png', 'plate_JR35.png', 'plate_JR45.png', 'plate_JS87.png', 'plate_JS98.png', 'plate_JT80.png', 'plate_JU72.png', 'plate_JU83.png', 'plate_JV41.png', 'plate_JW70.png', 'plate_JX54.png', 'plate_JZ70.png', 'plate_JZ93.png', 'plate_KA17.png', 'plate_KB07.png', 'plate_KB18.png', 'plate_KB66.png', 'plate_KC44.png', 'plate_KC46.png', 'plate_KD28.png', 'plate_KD34.png', 'plate_KE02.png', 'plate_KE55.png', 'plate_KE77.png', 'plate_KF09.png', 'plate_KF12.png', 'plate_KH39.png', 'plate_KH94.png', 'plate_KI77.png', 'plate_KI91.png', 'plate_KJ37.png', 'plate_KK63.png', 'plate_KK72.png', 'plate_KK78.png', 'plate_KL00.png', 'plate_KL22.png', 'plate_KL55.png', 'plate_KL71.png', 'plate_KM31.png', 'plate_KO31.png', 'plate_KP15.png', 'plate_KP36.png', 'plate_KP43.png', 'plate_KP64.png', 'plate_KP70.png', 'plate_KR49.png', 'plate_KS14.png', 'plate_KS31.png', 'plate_KS53.png', 'plate_KS66.png', 'plate_KS79.png', 'plate_KT81.png', 'plate_KT84.png', 'plate_KT96.png', 'plate_KU38.png', 'plate_KW01.png', 'plate_KW87.png', 'plate_KX23.png', 'plate_KX35.png', 'plate_KX75.png', 'plate_KY28.png', 'plate_KY36.png', 'plate_KZ27.png', 'plate_LA29.png', 'plate_LB61.png', 'plate_LB96.png', 'plate_LC19.png', 'plate_LD45.png', 'plate_LD56.png', 'plate_LD92.png', 'plate_LG68.png', 'plate_LH95.png', 'plate_LI14.png', 'plate_LI27.png', 'plate_LJ27.png', 'plate_LK60.png', 'plate_LK85.png', 'plate_LL30.png', 'plate_LL71.png', 'plate_LN78.png', 'plate_LO13.png', 'plate_LQ20.png', 'plate_LQ26.png', 'plate_LQ53.png', 'plate_LS21.png', 'plate_LS26.png', 'plate_LS97.png', 'plate_LT42.png', 'plate_LU96.png', 'plate_LV14.png', 'plate_LV47.png', 'plate_LX14.png', 'plate_LZ02.png', 'plate_LZ23.png', 'plate_MB92.png', 'plate_MC78.png', 'plate_MD04.png', 'plate_MD14.png', 'plate_MD19.png', 'plate_MD26.png', 'plate_MD74.png', 'plate_ME13.png', 'plate_ME40.png', 'plate_ME74.png', 'plate_ME77.png', 'plate_MF40.png', 'plate_MF94.png', 'plate_MG86.png', 'plate_MH48.png', 'plate_MH95.png', 'plate_MJ16.png', 'plate_MJ22.png', 'plate_MK60.png', 'plate_MK62.png', 'plate_ML81.png', 'plate_ML95.png', 'plate_MO33.png', 'plate_MP35.png', 'plate_MP49.png', 'plate_MP82.png', 'plate_MR43.png', 'plate_MR53.png', 'plate_MR78.png', 'plate_MS02.png', 'plate_MS51.png', 'plate_MU81.png', 'plate_MV43.png', 'plate_MV86.png', 'plate_MX54.png', 'plate_MX76.png', 'plate_MY14.png', 'plate_MY19.png', 'plate_MZ10.png', 'plate_MZ81.png', 'plate_MZ97.png', 'plate_NA07.png', 'plate_NA85.png', 'plate_NA96.png', 'plate_NB03.png', 'plate_NB69.png', 'plate_NB76.png', 'plate_NB85.png', 'plate_NE53.png', 'plate_NF86.png', 'plate_NH30.png', 'plate_NH38.png', 'plate_NH49.png', 'plate_NI81.png', 'plate_NJ15.png', 'plate_NJ24.png', 'plate_NK54.png', 'plate_NK76.png', 'plate_NK90.png', 'plate_NM14.png', 'plate_NN28.png', 'plate_NO47.png', 'plate_NQ98.png', 'plate_NR75.png', 'plate_NS19.png', 'plate_NT72.png', 'plate_NU20.png', 'plate_NU64.png', 'plate_NV06.png', 'plate_NW13.png', 'plate_NW57.png', 'plate_NY40.png', 'plate_NZ93.png', 'plate_NZ95.png', 'plate_OA77.png', 'plate_OC30.png', 'plate_OC95.png', 'plate_OD06.png', 'plate_OD16.png', 'plate_OE08.png', 'plate_OE60.png', 'plate_OG07.png', 'plate_OG74.png', 'plate_OH43.png', 'plate_OH50.png', 'plate_OI58.png', 'plate_OI98.png', 'plate_OJ45.png', 'plate_OL89.png', 'plate_ON16.png', 'plate_ON38.png', 'plate_OO07.png', 'plate_OO26.png', 'plate_OO34.png', 'plate_OQ34.png', 'plate_OQ73.png', 'plate_OQ99.png', 'plate_OR50.png', 'plate_OS10.png', 'plate_OS94.png', 'plate_OT16.png', 'plate_OT89.png', 'plate_OV11.png', 'plate_OV84.png', 'plate_OW23.png', 'plate_OW88.png', 'plate_OX52.png', 'plate_OZ61.png', 'plate_PA96.png', 'plate_PB46.png', 'plate_PC80.png', 'plate_PC87.png', 'plate_PC91.png', 'plate_PD14.png', 'plate_PD24.png', 'plate_PD83.png', 'plate_PE41.png', 'plate_PF99.png', 'plate_PG27.png', 'plate_PG34.png', 'plate_PH02.png', 'plate_PH09.png', 'plate_PH33.png', 'plate_PI31.png', 'plate_PI83.png', 'plate_PJ01.png', 'plate_PJ64.png', 'plate_PK56.png', 'plate_PK74.png', 'plate_PN53.png', 'plate_PN76.png', 'plate_PO88.png', 'plate_PR61.png', 'plate_PR63.png', 'plate_PR96.png', 'plate_PS12.png', 'plate_PS81.png', 'plate_PS84.png', 'plate_PS97.png', 'plate_PW43.png', 'plate_PX16.png', 'plate_PX63.png', 'plate_PX80.png', 'plate_PY00.png', 'plate_PZ31.png', 'plate_PZ60.png', 'plate_QB54.png', 'plate_QC69.png', 'plate_QD13.png', 'plate_QD80.png', 'plate_QD86.png', 'plate_QF14.png', 'plate_QH37.png', 'plate_QH68.png', 'plate_QK46.png', 'plate_QK78.png', 'plate_QL11.png', 'plate_QM69.png', 'plate_QM84.png', 'plate_QM93.png', 'plate_QN71.png', 'plate_QN82.png', 'plate_QQ35.png', 'plate_QR40.png', 'plate_QS12.png', 'plate_QS43.png', 'plate_QS51.png', 'plate_QS86.png', 'plate_QT57.png', 'plate_QU43.png', 'plate_QU59.png', 'plate_QU82.png', 'plate_QU99.png', 'plate_QV38.png', 'plate_QW02.png', 'plate_QW11.png', 'plate_QW29.png', 'plate_QW65.png', 'plate_QX26.png', 'plate_QX74.png', 'plate_QY59.png', 'plate_QY60.png', 'plate_RA36.png', 'plate_RA92.png', 'plate_RC73.png', 'plate_RC83.png', 'plate_RD40.png', 'plate_RD90.png', 'plate_RD98.png', 'plate_RE10.png', 'plate_RG50.png', 'plate_RG70.png', 'plate_RG75.png', 'plate_RG78.png', 'plate_RH31.png', 'plate_RH43.png', 'plate_RH70.png', 'plate_RH75.png', 'plate_RI19.png', 'plate_RJ35.png', 'plate_RL93.png', 'plate_RM94.png', 'plate_RO14.png', 'plate_RO21.png', 'plate_RO48.png', 'plate_RO67.png', 'plate_RO90.png', 'plate_RP67.png', 'plate_RQ75.png', 'plate_RS29.png', 'plate_RS51.png', 'plate_RS64.png', 'plate_RT44.png', 'plate_RU59.png', 'plate_RU73.png', 'plate_RV07.png', 'plate_RV10.png', 'plate_RW50.png', 'plate_RW89.png', 'plate_RX88.png', 'plate_RY65.png', 'plate_RY80.png', 'plate_RZ23.png', 'plate_SA39.png', 'plate_SA61.png', 'plate_SB43.png', 'plate_SB83.png', 'plate_SC08.png', 'plate_SC45.png', 'plate_SC74.png', 'plate_SD04.png', 'plate_SD24.png', 'plate_SD25.png', 'plate_SD45.png', 'plate_SD87.png', 'plate_SE26.png', 'plate_SE67.png', 'plate_SH00.png', 'plate_SI94.png', 'plate_SJ63.png', 'plate_SL02.png', 'plate_SL68.png', 'plate_SM06.png', 'plate_SM57.png', 'plate_SM71.png', 'plate_SO70.png', 'plate_SR20.png', 'plate_SR41.png', 'plate_SR77.png', 'plate_SU18.png', 'plate_SU29.png', 'plate_SV92.png', 'plate_SV93.png', 'plate_SX19.png', 'plate_SY37.png', 'plate_SY51.png', 'plate_SY57.png', 'plate_TA16.png', 'plate_TB55.png', 'plate_TC19.png', 'plate_TD10.png', 'plate_TE57.png', 'plate_TF54.png', 'plate_TF87.png', 'plate_TH98.png', 'plate_TH99.png', 'plate_TI64.png', 'plate_TJ36.png', 'plate_TJ61.png', 'plate_TO12.png', 'plate_TO78.png', 'plate_TO80.png', 'plate_TO87.png', 'plate_TQ60.png', 'plate_TQ85.png', 'plate_TR01.png', 'plate_TR27.png', 'plate_TR75.png', 'plate_TS07.png', 'plate_TT01.png', 'plate_TT12.png', 'plate_TU54.png', 'plate_TV51.png', 'plate_TW62.png', 'plate_TX10.png', 'plate_TX95.png', 'plate_TY04.png', 'plate_TY15.png', 'plate_TZ16.png', 'plate_TZ49.png', 'plate_TZ81.png', 'plate_TZ83.png', 'plate_UA84.png', 'plate_UB71.png', 'plate_UB93.png', 'plate_UE15.png', 'plate_UE35.png', 'plate_UF77.png', 'plate_UG41.png', 'plate_UG86.png', 'plate_UI34.png', 'plate_UJ91.png', 'plate_UK09.png', 'plate_UK11.png', 'plate_UK56.png', 'plate_UL54.png', 'plate_UL60.png', 'plate_UM06.png', 'plate_UM29.png', 'plate_UN05.png', 'plate_UN37.png', 'plate_UO11.png', 'plate_UP54.png', 'plate_UP62.png', 'plate_UR14.png', 'plate_US28.png', 'plate_US74.png', 'plate_US76.png', 'plate_US97.png', 'plate_UT39.png', 'plate_UT79.png', 'plate_UU24.png', 'plate_UU53.png', 'plate_UV37.png', 'plate_UW08.png', 'plate_UW29.png', 'plate_VA94.png', 'plate_VB78.png', 'plate_VC32.png', 'plate_VC99.png', 'plate_VD82.png', 'plate_VE50.png', 'plate_VE91.png', 'plate_VF45.png', 'plate_VF76.png', 'plate_VG64.png', 'plate_VG67.png', 'plate_VH08.png', 'plate_VI39.png', 'plate_VJ80.png', 'plate_VK02.png', 'plate_VK84.png', 'plate_VM66.png', 'plate_VM91.png', 'plate_VN21.png', 'plate_VN56.png', 'plate_VO00.png', 'plate_VO41.png', 'plate_VO43.png', 'plate_VO71.png', 'plate_VO81.png', 'plate_VP15.png', 'plate_VP36.png', 'plate_VP43.png', 'plate_VR15.png', 'plate_VT20.png', 'plate_VT22.png', 'plate_VU40.png', 'plate_VU45.png', 'plate_VV37.png', 'plate_VV54.png', 'plate_VY89.png', 'plate_VZ97.png', 'plate_WA01.png', 'plate_WA18.png', 'plate_WB15.png', 'plate_WB99.png', 'plate_WC85.png', 'plate_WE53.png', 'plate_WE98.png', 'plate_WF75.png', 'plate_WG23.png', 'plate_WH38.png', 'plate_WH97.png', 'plate_WJ02.png', 'plate_WJ62.png', 'plate_WL34.png', 'plate_WL35.png', 'plate_WM39.png', 'plate_WN82.png', 'plate_WO00.png', 'plate_WO04.png', 'plate_WO10.png', 'plate_WO41.png', 'plate_WO57.png', 'plate_WO87.png', 'plate_WP06.png', 'plate_WP37.png', 'plate_WQ97.png', 'plate_WR37.png', 'plate_WS26.png', 'plate_WS49.png', 'plate_WS70.png', 'plate_WT87.png', 'plate_WU70.png', 'plate_WV88.png', 'plate_WV95.png', 'plate_WW08.png', 'plate_WW88.png', 'plate_WX03.png', 'plate_WX16.png', 'plate_WY31.png', 'plate_WY53.png', 'plate_WY72.png', 'plate_WY98.png', 'plate_WZ12.png', 'plate_WZ61.png', 'plate_WZ73.png', 'plate_WZ81.png', 'plate_XA74.png', 'plate_XB87.png', 'plate_XC38.png', 'plate_XC55.png', 'plate_XC83.png', 'plate_XD00.png', 'plate_XD30.png', 'plate_XD38.png', 'plate_XD93.png', 'plate_XE69.png', 'plate_XE90.png', 'plate_XF03.png', 'plate_XF04.png', 'plate_XF31.png', 'plate_XF67.png', 'plate_XG57.png', 'plate_XG79.png', 'plate_XG81.png', 'plate_XH17.png', 'plate_XH31.png', 'plate_XH86.png', 'plate_XH96.png', 'plate_XI42.png', 'plate_XK69.png', 'plate_XM13.png', 'plate_XM83.png', 'plate_XM93.png', 'plate_XN24.png', 'plate_XN38.png', 'plate_XO10.png', 'plate_XO37.png', 'plate_XO71.png', 'plate_XQ36.png', 'plate_XQ95.png', 'plate_XR07.png', 'plate_XR19.png', 'plate_XR67.png', 'plate_XR68.png', 'plate_XS02.png', 'plate_XS58.png', 'plate_XS86.png', 'plate_XT34.png', 'plate_XU45.png', 'plate_XU97.png', 'plate_XW35.png', 'plate_XW49.png', 'plate_XX14.png', 'plate_XX91.png', 'plate_XZ44.png', 'plate_XZ60.png', 'plate_XZ68.png', 'plate_XZ77.png', 'plate_YA47.png', 'plate_YA70.png', 'plate_YF35.png', 'plate_YF98.png', 'plate_YH27.png', 'plate_YI81.png', 'plate_YJ54.png', 'plate_YJ73.png', 'plate_YK05.png', 'plate_YK72.png', 'plate_YL08.png', 'plate_YL46.png', 'plate_YN14.png', 'plate_YN81.png', 'plate_YO11.png', 'plate_YO34.png', 'plate_YP34.png', 'plate_YP54.png', 'plate_YP76.png', 'plate_YS29.png', 'plate_YT31.png', 'plate_YU34.png', 'plate_YU70.png', 'plate_YV42.png', 'plate_YW29.png', 'plate_YX14.png', 'plate_YY45.png', 'plate_YZ55.png', 'plate_ZA34.png', 'plate_ZA77.png', 'plate_ZB03.png', 'plate_ZB94.png', 'plate_ZC03.png', 'plate_ZC18.png', 'plate_ZC27.png', 'plate_ZC53.png', 'plate_ZD32.png', 'plate_ZD61.png', 'plate_ZD80.png', 'plate_ZE30.png', 'plate_ZE31.png', 'plate_ZE71.png', 'plate_ZF20.png', 'plate_ZF31.png', 'plate_ZF51.png', 'plate_ZF52.png', 'plate_ZF57.png', 'plate_ZF99.png', 'plate_ZI15.png', 'plate_ZI89.png', 'plate_ZI92.png', 'plate_ZJ27.png', 'plate_ZK09.png', 'plate_ZK54.png', 'plate_ZL93.png', 'plate_ZM65.png', 'plate_ZM74.png', 'plate_ZN03.png', 'plate_ZO57.png', 'plate_ZP09.png', 'plate_ZP74.png', 'plate_ZQ53.png', 'plate_ZQ93.png', 'plate_ZS12.png', 'plate_ZS17.png', 'plate_ZS70.png', 'plate_ZT47.png', 'plate_ZT77.png', 'plate_ZT97.png', 'plate_ZU03.png', 'plate_ZU53.png', 'plate_ZV78.png', 'plate_ZV82.png', 'plate_ZW96.png', 'plate_ZX93.png', 'plate_ZY20.png', 'plate_ZY98.png', 'plate_ZZ12.png']\n"
          ]
        }
      ],
      "source": [
        "def files_in_folder(folder_path):\n",
        "  '''\n",
        "  Returns a list of strings where each entry is a file in the folder_path.\n",
        "  \n",
        "  Parameters\n",
        "  ----------\n",
        "  \n",
        "  folder_path : str\n",
        "     A string to folder for which the file listing is returned.\n",
        "     \n",
        "  '''\n",
        "  files_A = !ls \"{folder_path}\"\n",
        "  # The files when listed from Google Drive have a particular format. They are\n",
        "  # grouped in sets of 4 and have spaces and tabs as delimiters.\n",
        "  \n",
        "  # Split the string listing sets of 4 files by tab and space and remove any \n",
        "  # empty splits.\n",
        "  files_B = [list(filter(None, re.split('\\t|\\s', files))) for files in files_A]\n",
        "  \n",
        "  # Concatenate all splits into a single sorted list\n",
        "  files_C = []\n",
        "  for element in files_B:\n",
        "    files_C = files_C + element\n",
        "  files_C.sort()\n",
        "  \n",
        "  return files_C\n",
        "\n",
        "files = files_in_folder(folder)\n",
        "\n",
        "print(files)"
      ]
    },
    {
      "cell_type": "markdown",
      "source": [
        "## Slice Images"
      ],
      "metadata": {
        "id": "goq2l3tFJb0i"
      }
    },
    {
      "cell_type": "code",
      "execution_count": 12,
      "metadata": {
        "id": "B47pjcC15Fc0"
      },
      "outputs": [],
      "source": [
        "#cropping settings\n",
        "top = 100\n",
        "bottom = 220\n",
        "left = 47"
      ]
    },
    {
      "cell_type": "code",
      "execution_count": 13,
      "metadata": {
        "id": "xLzTAeoasomQ"
      },
      "outputs": [],
      "source": [
        "value = 0\n",
        "dataset = []\n",
        "\n",
        "for plate in files:\n",
        "  #read and crop plate\n",
        "  path = f\"{folder}/{plate}\"\n",
        "  img = cv2.imread(path, cv2.IMREAD_COLOR)\n",
        "  img = img[top:bottom,left:]\n",
        "  \n",
        "  allchars = \"ABCDEFGHIJKLMNOPQRSTUVWXYZ0123456789\"\n",
        "\n",
        "  #slice every letter\n",
        "  letter1 = [img[:,0:100], allchars.find(path[24])]\n",
        "\n",
        "  letter2 = [img[:,100:200], allchars.find(path[25])]\n",
        "               \n",
        "  letter3 = [img[:,300:400], allchars.find(path[26])]\n",
        "\n",
        "  letter4 = [img[:,400:500], allchars.find(path[27])]\n",
        "\n",
        "  dataset.append(letter1)\n",
        "  dataset.append(letter2)\n",
        "  dataset.append(letter3)\n",
        "  dataset.append(letter4)\n"
      ]
    },
    {
      "cell_type": "code",
      "execution_count": 14,
      "metadata": {
        "id": "mXx94JGq69h7"
      },
      "outputs": [],
      "source": [
        "def convert_to_one_hot(Y, C):\n",
        "    Y = np.eye(C)[Y.reshape(-1)].T\n",
        "    return Y"
      ]
    },
    {
      "cell_type": "markdown",
      "source": [
        "## Create Datasets for Neural Net"
      ],
      "metadata": {
        "id": "gDmRuuTEJiUJ"
      }
    },
    {
      "cell_type": "code",
      "source": [
        "# Shuffle the dataset\n",
        "np.random.shuffle(dataset)\n",
        "\n",
        "# Genereate X and Y datasets\n",
        "X_dataset_orig = np.array([data[0] for data in dataset])\n",
        "Y_dataset_orig = np.array([[data[1]] for data in dataset]).T\n",
        "\n",
        "NUMBER_OF_LABELS = 36\n",
        "CONFIDENCE_THRESHOLD = 0.01\n",
        "\n",
        "# Normalize X (images) dataset\n",
        "X_dataset = X_dataset_orig/255.\n",
        "\n",
        "# Convert Y dataset to one-hot encoding\n",
        "Y_dataset = convert_to_one_hot(Y_dataset_orig, NUMBER_OF_LABELS).T\n",
        "\n"
      ],
      "metadata": {
        "id": "f-I-GGUYbV2Z"
      },
      "execution_count": 15,
      "outputs": []
    },
    {
      "cell_type": "code",
      "source": [
        "VALIDATION_SPLIT = 0.2\n",
        "\n",
        "print(\"Total examples: {:d}\\nTraining examples: {:d}\\nTest examples: {:d}\".\n",
        "      format(X_dataset.shape[0],\n",
        "             math.ceil(X_dataset.shape[0] * (1-VALIDATION_SPLIT)),\n",
        "             math.floor(X_dataset.shape[0] * VALIDATION_SPLIT)))\n",
        "print(\"X shape: \" + str(X_dataset.shape))\n",
        "print(\"Y shape: \" + str(Y_dataset.shape))"
      ],
      "metadata": {
        "colab": {
          "base_uri": "https://localhost:8080/"
        },
        "id": "6I3m8PJsuO5c",
        "outputId": "3f2f10cd-7122-401b-d16c-88452d563ec0"
      },
      "execution_count": 16,
      "outputs": [
        {
          "output_type": "stream",
          "name": "stdout",
          "text": [
            "Total examples: 3968\n",
            "Training examples: 3175\n",
            "Test examples: 793\n",
            "X shape: (3968, 120, 100, 3)\n",
            "Y shape: (3968, 36)\n"
          ]
        }
      ]
    },
    {
      "cell_type": "markdown",
      "source": [
        "## Building Neural Net"
      ],
      "metadata": {
        "id": "dDPwBKHaJrK0"
      }
    },
    {
      "cell_type": "code",
      "source": [
        "def reset_weights(model):\n",
        "  for ix, layer in enumerate(model.layers):\n",
        "      if (hasattr(model.layers[ix], 'kernel_initializer') and \n",
        "          hasattr(model.layers[ix], 'bias_initializer')):\n",
        "          weight_initializer = model.layers[ix].kernel_initializer\n",
        "          bias_initializer = model.layers[ix].bias_initializer\n",
        "\n",
        "          old_weights, old_biases = model.layers[ix].get_weights()\n",
        "\n",
        "          model.layers[ix].set_weights([\n",
        "              weight_initializer(shape=old_weights.shape),\n",
        "              bias_initializer(shape=len(old_biases))])"
      ],
      "metadata": {
        "id": "pOGcRKdQxtmQ"
      },
      "execution_count": 17,
      "outputs": []
    },
    {
      "cell_type": "code",
      "source": [
        "conv_model = models.Sequential()\n",
        "conv_model.add(layers.Conv2D(32, (3, 3), activation='relu',\n",
        "                             input_shape=(120, 100, 3)))\n",
        "conv_model.add(layers.MaxPooling2D((2, 2)))\n",
        "conv_model.add(layers.Conv2D(64, (3, 3), activation='relu'))\n",
        "conv_model.add(layers.MaxPooling2D((2, 2)))\n",
        "conv_model.add(layers.Flatten())\n",
        "conv_model.add(layers.Dropout(0.5))\n",
        "conv_model.add(layers.Dense(512, activation='relu'))\n",
        "conv_model.add(layers.Dense(36, activation='softmax'))"
      ],
      "metadata": {
        "id": "eK8ARM9Sxw0g"
      },
      "execution_count": 18,
      "outputs": []
    },
    {
      "cell_type": "code",
      "source": [
        "conv_model.summary()"
      ],
      "metadata": {
        "id": "g8ZXjTGqx9Z9",
        "colab": {
          "base_uri": "https://localhost:8080/"
        },
        "outputId": "c0668156-064e-477e-9568-93835a0e6049"
      },
      "execution_count": 19,
      "outputs": [
        {
          "output_type": "stream",
          "name": "stdout",
          "text": [
            "Model: \"sequential\"\n",
            "_________________________________________________________________\n",
            " Layer (type)                Output Shape              Param #   \n",
            "=================================================================\n",
            " conv2d (Conv2D)             (None, 118, 98, 32)       896       \n",
            "                                                                 \n",
            " max_pooling2d (MaxPooling2D  (None, 59, 49, 32)       0         \n",
            " )                                                               \n",
            "                                                                 \n",
            " conv2d_1 (Conv2D)           (None, 57, 47, 64)        18496     \n",
            "                                                                 \n",
            " max_pooling2d_1 (MaxPooling  (None, 28, 23, 64)       0         \n",
            " 2D)                                                             \n",
            "                                                                 \n",
            " flatten (Flatten)           (None, 41216)             0         \n",
            "                                                                 \n",
            " dropout (Dropout)           (None, 41216)             0         \n",
            "                                                                 \n",
            " dense (Dense)               (None, 512)               21103104  \n",
            "                                                                 \n",
            " dense_1 (Dense)             (None, 36)                18468     \n",
            "                                                                 \n",
            "=================================================================\n",
            "Total params: 21,140,964\n",
            "Trainable params: 21,140,964\n",
            "Non-trainable params: 0\n",
            "_________________________________________________________________\n"
          ]
        }
      ]
    },
    {
      "cell_type": "code",
      "source": [
        "LEARNING_RATE = 1e-4\n",
        "conv_model.compile(loss='categorical_crossentropy',\n",
        "                   optimizer=optimizers.RMSprop(lr=LEARNING_RATE),\n",
        "                   metrics=['acc'])"
      ],
      "metadata": {
        "id": "OlcDepm1yFHb",
        "colab": {
          "base_uri": "https://localhost:8080/"
        },
        "outputId": "5953773c-0999-4da5-a2a1-4ee32f43c871"
      },
      "execution_count": 20,
      "outputs": [
        {
          "output_type": "stream",
          "name": "stderr",
          "text": [
            "/usr/local/lib/python3.7/dist-packages/keras/optimizers/optimizer_v2/rmsprop.py:135: UserWarning: The `lr` argument is deprecated, use `learning_rate` instead.\n",
            "  super(RMSprop, self).__init__(name, **kwargs)\n"
          ]
        }
      ]
    },
    {
      "cell_type": "markdown",
      "source": [
        "## Reset Weights"
      ],
      "metadata": {
        "id": "gZAfUXDpJ1Mg"
      }
    },
    {
      "cell_type": "code",
      "source": [
        "reset_weights(conv_model)"
      ],
      "metadata": {
        "id": "v8t6JzTYyIBG"
      },
      "execution_count": 21,
      "outputs": []
    },
    {
      "cell_type": "markdown",
      "source": [
        "## Train Neural Net"
      ],
      "metadata": {
        "id": "8-ntIQXNJ4nP"
      }
    },
    {
      "cell_type": "code",
      "source": [
        "history_conv = conv_model.fit(X_dataset, Y_dataset, \n",
        "                              validation_split=VALIDATION_SPLIT, \n",
        "                              epochs=20, \n",
        "                              batch_size=16)"
      ],
      "metadata": {
        "id": "OBHCZr3NyLec",
        "colab": {
          "base_uri": "https://localhost:8080/"
        },
        "outputId": "d9d1719a-f51d-4545-9d02-049fa625107b"
      },
      "execution_count": 22,
      "outputs": [
        {
          "output_type": "stream",
          "name": "stdout",
          "text": [
            "Epoch 1/20\n",
            "199/199 [==============================] - 93s 461ms/step - loss: 0.5426 - acc: 0.8853 - val_loss: 0.0788 - val_acc: 0.9874\n",
            "Epoch 2/20\n",
            "199/199 [==============================] - 91s 458ms/step - loss: 0.0460 - acc: 0.9820 - val_loss: 0.0216 - val_acc: 0.9874\n",
            "Epoch 3/20\n",
            "199/199 [==============================] - 92s 460ms/step - loss: 0.0210 - acc: 0.9899 - val_loss: 0.0059 - val_acc: 1.0000\n",
            "Epoch 4/20\n",
            "199/199 [==============================] - 92s 462ms/step - loss: 0.0078 - acc: 0.9968 - val_loss: 0.0095 - val_acc: 1.0000\n",
            "Epoch 5/20\n",
            "199/199 [==============================] - 91s 456ms/step - loss: 0.0027 - acc: 0.9994 - val_loss: 2.1561e-04 - val_acc: 1.0000\n",
            "Epoch 6/20\n",
            "199/199 [==============================] - 92s 461ms/step - loss: 6.6989e-04 - acc: 1.0000 - val_loss: 4.4100e-04 - val_acc: 1.0000\n",
            "Epoch 7/20\n",
            "199/199 [==============================] - 90s 454ms/step - loss: 8.7186e-04 - acc: 0.9997 - val_loss: 1.9593e-05 - val_acc: 1.0000\n",
            "Epoch 8/20\n",
            "199/199 [==============================] - 93s 468ms/step - loss: 5.5450e-05 - acc: 1.0000 - val_loss: 1.6822e-05 - val_acc: 1.0000\n",
            "Epoch 9/20\n",
            "199/199 [==============================] - 90s 453ms/step - loss: 2.0652e-05 - acc: 1.0000 - val_loss: 3.0793e-07 - val_acc: 1.0000\n",
            "Epoch 10/20\n",
            "199/199 [==============================] - 92s 462ms/step - loss: 1.6143e-06 - acc: 1.0000 - val_loss: 2.4472e-08 - val_acc: 1.0000\n",
            "Epoch 11/20\n",
            "199/199 [==============================] - 92s 462ms/step - loss: 5.0253e-06 - acc: 1.0000 - val_loss: 1.8167e-08 - val_acc: 1.0000\n",
            "Epoch 12/20\n",
            "199/199 [==============================] - 90s 452ms/step - loss: 6.9219e-08 - acc: 1.0000 - val_loss: 1.5014e-09 - val_acc: 1.0000\n",
            "Epoch 13/20\n",
            "199/199 [==============================] - 92s 461ms/step - loss: 1.6464e-07 - acc: 1.0000 - val_loss: 0.0000e+00 - val_acc: 1.0000\n",
            "Epoch 14/20\n",
            "199/199 [==============================] - 90s 452ms/step - loss: 1.5887e-08 - acc: 1.0000 - val_loss: 0.0000e+00 - val_acc: 1.0000\n",
            "Epoch 15/20\n",
            "199/199 [==============================] - 94s 475ms/step - loss: 5.5210e-09 - acc: 1.0000 - val_loss: 0.0000e+00 - val_acc: 1.0000\n",
            "Epoch 16/20\n",
            "199/199 [==============================] - 95s 478ms/step - loss: 1.9906e-09 - acc: 1.0000 - val_loss: 0.0000e+00 - val_acc: 1.0000\n",
            "Epoch 17/20\n",
            "199/199 [==============================] - 93s 470ms/step - loss: 4.8450e-09 - acc: 1.0000 - val_loss: 0.0000e+00 - val_acc: 1.0000\n",
            "Epoch 18/20\n",
            "199/199 [==============================] - 91s 456ms/step - loss: 2.0657e-09 - acc: 1.0000 - val_loss: 0.0000e+00 - val_acc: 1.0000\n",
            "Epoch 19/20\n",
            "199/199 [==============================] - 92s 462ms/step - loss: 2.4788e-09 - acc: 1.0000 - val_loss: 0.0000e+00 - val_acc: 1.0000\n",
            "Epoch 20/20\n",
            "199/199 [==============================] - 92s 464ms/step - loss: 3.6807e-09 - acc: 1.0000 - val_loss: 0.0000e+00 - val_acc: 1.0000\n"
          ]
        }
      ]
    },
    {
      "cell_type": "code",
      "source": [
        "plt.plot(history_conv.history['loss'])\n",
        "plt.plot(history_conv.history['val_loss'])\n",
        "plt.title('model loss')\n",
        "plt.ylabel('loss')\n",
        "plt.xlabel('epoch')\n",
        "plt.legend(['train loss', 'val loss'], loc='upper left')\n",
        "plt.show()"
      ],
      "metadata": {
        "id": "Fat4XAdfyNpx",
        "colab": {
          "base_uri": "https://localhost:8080/",
          "height": 295
        },
        "outputId": "93706fc4-e92e-4ccb-801c-0c5425191919"
      },
      "execution_count": 23,
      "outputs": [
        {
          "output_type": "display_data",
          "data": {
            "text/plain": [
              "<Figure size 432x288 with 1 Axes>"
            ],
            "image/png": "[encoded data removed]"
          },
          "metadata": {
            "needs_background": "light"
          }
        }
      ]
    },
    {
      "cell_type": "code",
      "source": [
        "plt.plot(history_conv.history['acc'])\n",
        "plt.plot(history_conv.history['val_acc'])\n",
        "plt.title('model accuracy')\n",
        "plt.ylabel('accuracy (%)')\n",
        "plt.xlabel('epoch')\n",
        "plt.legend(['train accuracy', 'val accuracy'], loc='upper left')\n",
        "plt.show()"
      ],
      "metadata": {
        "id": "de5lHvl72CkQ",
        "colab": {
          "base_uri": "https://localhost:8080/",
          "height": 295
        },
        "outputId": "771f1000-4e72-44db-fdf0-14afd48bd1d7"
      },
      "execution_count": 24,
      "outputs": [
        {
          "output_type": "display_data",
          "data": {
            "text/plain": [
              "<Figure size 432x288 with 1 Axes>"
            ],
            "image/png": "[encoded data removed]"
          },
          "metadata": {
            "needs_background": "light"
          }
        }
      ]
    },
    {
      "cell_type": "markdown",
      "source": [
        "## Predicting Letters"
      ],
      "metadata": {
        "id": "VRmZwOzAJ-Lv"
      }
    },
    {
      "cell_type": "code",
      "source": [
        "# Display images in the training data set. \n",
        "def displayImage(index):\n",
        "  img = X_dataset[index]\n",
        "  \n",
        "  img_aug = np.expand_dims(img, axis=0)\n",
        "  y_predict = conv_model.predict(img_aug)\n",
        "  \n",
        "  plt.imshow(img)  \n",
        "  \n",
        "  caption = (\"Input: \" + str(allchars[np.argmax(Y_dataset[index])])\n",
        "                            + \"\\nPredicted: \" + str(allchars[np.argmax(y_predict)])\n",
        "                            + \"\\nConfidence: \" + str(np.amax(y_predict)) + \"\\n\") \n",
        "  \n",
        "  plt.text(0.5, 0.5, caption, \n",
        "           color='orange', fontsize = 16,\n",
        "           horizontalalignment='left', verticalalignment='bottom')\n",
        "\n",
        "\n",
        "interact(displayImage, \n",
        "        index=ipywidgets.IntSlider(min=0, max=X_dataset_orig.shape[0],\n",
        "                                   step=1, value=10))\n"
      ],
      "metadata": {
        "id": "qqENm-ZD2MP0",
        "colab": {
          "base_uri": "https://localhost:8080/",
          "height": 415,
          "referenced_widgets": [
            "0cb53ecd163b473fa11ac756b8bbd28c",
            "61c9324ddac44e64b9edc3ba41c85c66",
            "bd8957bdfb5a493f93539c34b39f2e65",
            "c4ab97be1b9e4d0da8d8b0c9eac032e5",
            "a520e40839b043589c059b247ad98e4b",
            "0fcf890bfe614e22aad2078859303802",
            "7bdf8b7797ab497eb91cfcee8a2c34ff"
          ]
        },
        "outputId": "a495c2db-ca6b-432d-800c-809717746206"
      },
      "execution_count": 25,
      "outputs": [
        {
          "output_type": "display_data",
          "data": {
            "text/plain": [
              "interactive(children=(IntSlider(value=10, description='index', max=3968), Output()), _dom_classes=('widget-int…"
            ],
            "application/vnd.jupyter.widget-view+json": {
              "version_major": 2,
              "version_minor": 0,
              "model_id": "0cb53ecd163b473fa11ac756b8bbd28c"
            }
          },
          "metadata": {}
        },
        {
          "output_type": "execute_result",
          "data": {
            "text/plain": [
              "<function __main__.displayImage(index)>"
            ]
          },
          "metadata": {},
          "execution_count": 25
        }
      ]
    }
  ],
  "metadata": {
    "colab": {
      "collapsed_sections": [
        "TASHcorgJANo",
        "44zu-SGYalEw",
        "fMhiYtt7jKvl",
        "RzzzJCMrbP03",
        "goq2l3tFJb0i",
        "gDmRuuTEJiUJ"
      ],
      "provenance": [],
      "include_colab_link": true
    },
    "kernelspec": {
      "display_name": "Python 3",
      "name": "python3"
    },
    "accelerator": "GPU",
    "widgets": {
      "application/vnd.jupyter.widget-state+json": {
        "0cb53ecd163b473fa11ac756b8bbd28c": {
          "model_module": "@jupyter-widgets/controls",
          "model_name": "VBoxModel",
          "model_module_version": "1.5.0",
          "state": {
            "_dom_classes": [
              "widget-interact"
            ],
            "_model_module": "@jupyter-widgets/controls",
            "_model_module_version": "1.5.0",
            "_model_name": "VBoxModel",
            "_view_count": null,
            "_view_module": "@jupyter-widgets/controls",
            "_view_module_version": "1.5.0",
            "_view_name": "VBoxView",
            "box_style": "",
            "children": [
              "IPY_MODEL_61c9324ddac44e64b9edc3ba41c85c66",
              "IPY_MODEL_bd8957bdfb5a493f93539c34b39f2e65"
            ],
            "layout": "IPY_MODEL_c4ab97be1b9e4d0da8d8b0c9eac032e5"
          }
        },
        "61c9324ddac44e64b9edc3ba41c85c66": {
          "model_module": "@jupyter-widgets/controls",
          "model_name": "IntSliderModel",
          "model_module_version": "1.5.0",
          "state": {
            "_dom_classes": [],
            "_model_module": "@jupyter-widgets/controls",
            "_model_module_version": "1.5.0",
            "_model_name": "IntSliderModel",
            "_view_count": null,
            "_view_module": "@jupyter-widgets/controls",
            "_view_module_version": "1.5.0",
            "_view_name": "IntSliderView",
            "continuous_update": true,
            "description": "index",
            "description_tooltip": null,
            "disabled": false,
            "layout": "IPY_MODEL_a520e40839b043589c059b247ad98e4b",
            "max": 3968,
            "min": 0,
            "orientation": "horizontal",
            "readout": true,
            "readout_format": "d",
            "step": 1,
            "style": "IPY_MODEL_0fcf890bfe614e22aad2078859303802",
            "value": 2424
          }
        },
        "bd8957bdfb5a493f93539c34b39f2e65": {
          "model_module": "@jupyter-widgets/output",
          "model_name": "OutputModel",
          "model_module_version": "1.0.0",
          "state": {
            "_dom_classes": [],
            "_model_module": "@jupyter-widgets/output",
            "_model_module_version": "1.0.0",
            "_model_name": "OutputModel",
            "_view_count": null,
            "_view_module": "@jupyter-widgets/output",
            "_view_module_version": "1.0.0",
            "_view_name": "OutputView",
            "layout": "IPY_MODEL_7bdf8b7797ab497eb91cfcee8a2c34ff",
            "msg_id": "",
            "outputs": [
              {
                "output_type": "stream",
                "name": "stdout",
                "text": [
                  "\r1/1 [==============================] - ETA: 0s"
                ]
              },
              {
                "output_type": "stream",
                "name": "stdout",
                "text": [
                  "\b\b\b\b\b\b\b\b\b\b\b\b\b\b\b\b\b\b\b\b\b\b\b\b\b\b\b\b\b\b\b\b\b\b\b\b\b\b\b\b\b\b\b\b\b\b\r1/1 [==============================] - 0s 65ms/step\n"
                ]
              },
              {
                "output_type": "display_data",
                "data": {
                  "text/plain": "<Figure size 432x288 with 1 Axes>",
                  "image/png": "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\n"
                },
                "metadata": {
                  "needs_background": "light"
                }
              }
            ]
          }
        },
        "c4ab97be1b9e4d0da8d8b0c9eac032e5": {
          "model_module": "@jupyter-widgets/base",
          "model_name": "LayoutModel",
          "model_module_version": "1.2.0",
          "state": {
            "_model_module": "@jupyter-widgets/base",
            "_model_module_version": "1.2.0",
            "_model_name": "LayoutModel",
            "_view_count": null,
            "_view_module": "@jupyter-widgets/base",
            "_view_module_version": "1.2.0",
            "_view_name": "LayoutView",
            "align_content": null,
            "align_items": null,
            "align_self": null,
            "border": null,
            "bottom": null,
            "display": null,
            "flex": null,
            "flex_flow": null,
            "grid_area": null,
            "grid_auto_columns": null,
            "grid_auto_flow": null,
            "grid_auto_rows": null,
            "grid_column": null,
            "grid_gap": null,
            "grid_row": null,
            "grid_template_areas": null,
            "grid_template_columns": null,
            "grid_template_rows": null,
            "height": null,
            "justify_content": null,
            "justify_items": null,
            "left": null,
            "margin": null,
            "max_height": null,
            "max_width": null,
            "min_height": null,
            "min_width": null,
            "object_fit": null,
            "object_position": null,
            "order": null,
            "overflow": null,
            "overflow_x": null,
            "overflow_y": null,
            "padding": null,
            "right": null,
            "top": null,
            "visibility": null,
            "width": null
          }
        },
        "a520e40839b043589c059b247ad98e4b": {
          "model_module": "@jupyter-widgets/base",
          "model_name": "LayoutModel",
          "model_module_version": "1.2.0",
          "state": {
            "_model_module": "@jupyter-widgets/base",
            "_model_module_version": "1.2.0",
            "_model_name": "LayoutModel",
            "_view_count": null,
            "_view_module": "@jupyter-widgets/base",
            "_view_module_version": "1.2.0",
            "_view_name": "LayoutView",
            "align_content": null,
            "align_items": null,
            "align_self": null,
            "border": null,
            "bottom": null,
            "display": null,
            "flex": null,
            "flex_flow": null,
            "grid_area": null,
            "grid_auto_columns": null,
            "grid_auto_flow": null,
            "grid_auto_rows": null,
            "grid_column": null,
            "grid_gap": null,
            "grid_row": null,
            "grid_template_areas": null,
            "grid_template_columns": null,
            "grid_template_rows": null,
            "height": null,
            "justify_content": null,
            "justify_items": null,
            "left": null,
            "margin": null,
            "max_height": null,
            "max_width": null,
            "min_height": null,
            "min_width": null,
            "object_fit": null,
            "object_position": null,
            "order": null,
            "overflow": null,
            "overflow_x": null,
            "overflow_y": null,
            "padding": null,
            "right": null,
            "top": null,
            "visibility": null,
            "width": null
          }
        },
        "0fcf890bfe614e22aad2078859303802": {
          "model_module": "@jupyter-widgets/controls",
          "model_name": "SliderStyleModel",
          "model_module_version": "1.5.0",
          "state": {
            "_model_module": "@jupyter-widgets/controls",
            "_model_module_version": "1.5.0",
            "_model_name": "SliderStyleModel",
            "_view_count": null,
            "_view_module": "@jupyter-widgets/base",
            "_view_module_version": "1.2.0",
            "_view_name": "StyleView",
            "description_width": "",
            "handle_color": null
          }
        },
        "7bdf8b7797ab497eb91cfcee8a2c34ff": {
          "model_module": "@jupyter-widgets/base",
          "model_name": "LayoutModel",
          "model_module_version": "1.2.0",
          "state": {
            "_model_module": "@jupyter-widgets/base",
            "_model_module_version": "1.2.0",
            "_model_name": "LayoutModel",
            "_view_count": null,
            "_view_module": "@jupyter-widgets/base",
            "_view_module_version": "1.2.0",
            "_view_name": "LayoutView",
            "align_content": null,
            "align_items": null,
            "align_self": null,
            "border": null,
            "bottom": null,
            "display": null,
            "flex": null,
            "flex_flow": null,
            "grid_area": null,
            "grid_auto_columns": null,
            "grid_auto_flow": null,
            "grid_auto_rows": null,
            "grid_column": null,
            "grid_gap": null,
            "grid_row": null,
            "grid_template_areas": null,
            "grid_template_columns": null,
            "grid_template_rows": null,
            "height": null,
            "justify_content": null,
            "justify_items": null,
            "left": null,
            "margin": null,
            "max_height": null,
            "max_width": null,
            "min_height": null,
            "min_width": null,
            "object_fit": null,
            "object_position": null,
            "order": null,
            "overflow": null,
            "overflow_x": null,
            "overflow_y": null,
            "padding": null,
            "right": null,
            "top": null,
            "visibility": null,
            "width": null
          }
        }
      }
    }
  },
  "nbformat": 4,
  "nbformat_minor": 0
}