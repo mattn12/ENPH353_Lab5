{
  "cells": [
    {
      "cell_type": "markdown",
      "metadata": {
        "id": "view-in-github",
        "colab_type": "text"
      },
      "source": [
        "<a href=\"https://colab.research.google.com/github/mattn12/ENPH353_Lab5/blob/main/ENPH353_Lab05.ipynb\" target=\"_parent\"><img src=\"https://colab.research.google.com/assets/colab-badge.svg\" alt=\"Open In Colab\"/></a>"
      ]
    },
    {
      "cell_type": "markdown",
      "source": [
        "# ENPH 353 Lab 5 - Character Recogition\n"
      ],
      "metadata": {
        "id": "KSk9aCdYJGL5"
      }
    },
    {
      "cell_type": "markdown",
      "source": [
        "## Import Packages"
      ],
      "metadata": {
        "id": "TASHcorgJANo"
      }
    },
    {
      "cell_type": "code",
      "execution_count": null,
      "metadata": {
        "id": "i6RTCDKv1uUN"
      },
      "outputs": [],
      "source": [
        "import string\n",
        "import random\n",
        "from random import randint\n",
        "import cv2\n",
        "import numpy as np\n",
        "import os\n",
        "import math\n",
        "import re\n",
        "\n",
        "from PIL import Image, ImageFont, ImageDraw\n",
        "from collections import Counter\n",
        "from matplotlib import pyplot as plt\n",
        "from google.colab.patches import cv2_imshow\n",
        "\n",
        "from tensorflow.keras import layers\n",
        "from tensorflow.keras import models\n",
        "from tensorflow.keras import optimizers\n",
        "\n",
        "from tensorflow.keras.utils import plot_model\n",
        "from tensorflow.keras import backend\n",
        "\n",
        "from ipywidgets import interact\n",
        "import ipywidgets as ipywidgets\n"
      ]
    },
    {
      "cell_type": "markdown",
      "metadata": {
        "id": "44zu-SGYalEw"
      },
      "source": [
        "## License Plate Generator"
      ]
    },
    {
      "cell_type": "code",
      "execution_count": null,
      "metadata": {
        "id": "ENidRuKm14S_"
      },
      "outputs": [],
      "source": [
        "# Run this command only once:\n",
        "\n",
        "# makes the output folder /content/pictures/\n",
        "#!mkdir pictures"
      ]
    },
    {
      "cell_type": "code",
      "execution_count": null,
      "metadata": {
        "id": "TvR3Yd_0HCOA"
      },
      "outputs": [],
      "source": [
        "# Run this command only once\n",
        "\n",
        "# Downloads the license plate template to /content/blank_plate.png\n",
        "#!gdown --id 1Q_FsX2z6DaDCLM91qGZzwvctaW9bN60v"
      ]
    },
    {
      "cell_type": "code",
      "execution_count": null,
      "metadata": {
        "id": "4kh3ZKFb1U1F"
      },
      "outputs": [],
      "source": [
        "path = \"/content/\"\n",
        "\n",
        "NUMBER_OF_PLATES = 1000\n",
        "\n",
        "for i in range(0, NUMBER_OF_PLATES):\n",
        "  # Pick two random letters\n",
        "  plate_alpha = \"\"\n",
        "  for _ in range(0, 2):\n",
        "      plate_alpha += (random.choice(string.ascii_uppercase))\n",
        "\n",
        "  # Pick two random numbers\n",
        "  num = randint(0, 99)\n",
        "  plate_num = \"{:02d}\".format(num)\n",
        "    \n",
        "  # Write plate to image\n",
        "  blank_plate = cv2.imread(path+'blank_plate.png')\n",
        "\n",
        "  # Convert into a PIL image (this is so we can use the monospaced fonts)\n",
        "  blank_plate_pil = Image.fromarray(blank_plate)\n",
        "\n",
        "  # Get a drawing context\n",
        "  draw = ImageDraw.Draw(blank_plate_pil)\n",
        "  monospace = ImageFont.truetype(font=\"/usr/share/fonts/truetype/liberation/LiberationMono-Regular.ttf\", \n",
        "                                  size=165)\n",
        "  draw.text(xy=(48, 75),\n",
        "            text=plate_alpha + \" \" + plate_num ,\n",
        "            fill=(255,0,0), font=monospace)\n",
        "\n",
        "  # Convert back to OpenCV image and save\n",
        "  blank_plate = np.array(blank_plate_pil)\n",
        "\n",
        "  # Write license plate to file\n",
        "  cv2.imwrite(os.path.join(path + \"pictures/\", \n",
        "                            \"plate_{}{}.png\".format(plate_alpha,plate_num)),\n",
        "                            blank_plate)"
      ]
    },
    {
      "cell_type": "markdown",
      "metadata": {
        "id": "fMhiYtt7jKvl"
      },
      "source": [
        "## Authorize Google Drive Access"
      ]
    },
    {
      "cell_type": "code",
      "execution_count": null,
      "metadata": {
        "colab": {
          "base_uri": "https://localhost:8080/"
        },
        "id": "twDd8RNJtmAD",
        "outputId": "cb03d7a7-01fe-47ca-e789-2d7ec78e7a5c"
      },
      "outputs": [
        {
          "output_type": "stream",
          "name": "stdout",
          "text": [
            "Mounted at /content/drive\n"
          ]
        }
      ],
      "source": [
        "from google.colab import drive\n",
        "drive.mount('/content/drive')"
      ]
    },
    {
      "cell_type": "markdown",
      "metadata": {
        "id": "RzzzJCMrbP03"
      },
      "source": [
        "## Retrieve File Names of Plates\n"
      ]
    },
    {
      "cell_type": "code",
      "execution_count": null,
      "metadata": {
        "id": "Uz0wwzOPHV58"
      },
      "outputs": [],
      "source": [
        "folder = \"/content/pictures\"\n",
        "labels_raw = !ls \"{folder}\"\n",
        "labels = labels_raw[0].split()\n",
        "#print(labels_raw)"
      ]
    },
    {
      "cell_type": "code",
      "execution_count": null,
      "metadata": {
        "colab": {
          "base_uri": "https://localhost:8080/"
        },
        "id": "-huXcG5flJpq",
        "outputId": "d7eae381-a217-4a07-b252-4f86e8056939"
      },
      "outputs": [
        {
          "output_type": "stream",
          "name": "stdout",
          "text": [
            "['plate_AA24.png', 'plate_AA37.png', 'plate_AC83.png', 'plate_AC92.png', 'plate_AD06.png', 'plate_AD31.png', 'plate_AD46.png', 'plate_AD85.png', 'plate_AE67.png', 'plate_AF21.png', 'plate_AF77.png', 'plate_AG65.png', 'plate_AG89.png', 'plate_AH87.png', 'plate_AI88.png', 'plate_AK15.png', 'plate_AK70.png', 'plate_AK94.png', 'plate_AL74.png', 'plate_AL85.png', 'plate_AL95.png', 'plate_AM42.png', 'plate_AN56.png', 'plate_AO20.png', 'plate_AO67.png', 'plate_AO94.png', 'plate_AP14.png', 'plate_AP18.png', 'plate_AP70.png', 'plate_AP78.png', 'plate_AP95.png', 'plate_AP97.png', 'plate_AR21.png', 'plate_AR29.png', 'plate_AS28.png', 'plate_AS47.png', 'plate_AT50.png', 'plate_AU00.png', 'plate_AU33.png', 'plate_AV98.png', 'plate_AW93.png', 'plate_AX81.png', 'plate_AY79.png', 'plate_AY97.png', 'plate_BA12.png', 'plate_BB22.png', 'plate_BB70.png', 'plate_BC17.png', 'plate_BC66.png', 'plate_BC85.png', 'plate_BC95.png', 'plate_BC98.png', 'plate_BE08.png', 'plate_BE92.png', 'plate_BJ17.png', 'plate_BJ32.png', 'plate_BJ42.png', 'plate_BK21.png', 'plate_BK71.png', 'plate_BL09.png', 'plate_BL31.png', 'plate_BM89.png', 'plate_BM97.png', 'plate_BO88.png', 'plate_BP22.png', 'plate_BP63.png', 'plate_BP80.png', 'plate_BQ22.png', 'plate_BR42.png', 'plate_BR55.png', 'plate_BT37.png', 'plate_BT68.png', 'plate_BT84.png', 'plate_BU29.png', 'plate_BV25.png', 'plate_BV45.png', 'plate_BV64.png', 'plate_BV96.png', 'plate_BW30.png', 'plate_BW79.png', 'plate_BW86.png', 'plate_BX62.png', 'plate_BY10.png', 'plate_BZ12.png', 'plate_BZ47.png', 'plate_CB61.png', 'plate_CC78.png', 'plate_CD51.png', 'plate_CD68.png', 'plate_CD73.png', 'plate_CE27.png', 'plate_CE60.png', 'plate_CF11.png', 'plate_CF90.png', 'plate_CG58.png', 'plate_CG86.png', 'plate_CH45.png', 'plate_CH47.png', 'plate_CH69.png', 'plate_CI98.png', 'plate_CL88.png', 'plate_CM69.png', 'plate_CN68.png', 'plate_CO21.png', 'plate_CO98.png', 'plate_CP29.png', 'plate_CQ09.png', 'plate_CR04.png', 'plate_CT25.png', 'plate_CT57.png', 'plate_CU48.png', 'plate_CV21.png', 'plate_CW28.png', 'plate_CW36.png', 'plate_CW57.png', 'plate_CW69.png', 'plate_CY13.png', 'plate_CY82.png', 'plate_CZ12.png', 'plate_CZ54.png', 'plate_CZ74.png', 'plate_CZ97.png', 'plate_DA20.png', 'plate_DC24.png', 'plate_DC29.png', 'plate_DC44.png', 'plate_DD45.png', 'plate_DE00.png', 'plate_DE03.png', 'plate_DE44.png', 'plate_DE63.png', 'plate_DE74.png', 'plate_DF40.png', 'plate_DF43.png', 'plate_DG84.png', 'plate_DH65.png', 'plate_DH84.png', 'plate_DI50.png', 'plate_DI67.png', 'plate_DJ08.png', 'plate_DJ52.png', 'plate_DJ96.png', 'plate_DK76.png', 'plate_DL39.png', 'plate_DM05.png', 'plate_DN30.png', 'plate_DN48.png', 'plate_DN55.png', 'plate_DO55.png', 'plate_DO85.png', 'plate_DO86.png', 'plate_DP41.png', 'plate_DP51.png', 'plate_DP66.png', 'plate_DP69.png', 'plate_DQ92.png', 'plate_DR84.png', 'plate_DS03.png', 'plate_DS33.png', 'plate_DS52.png', 'plate_DS68.png', 'plate_DS75.png', 'plate_DT53.png', 'plate_DT80.png', 'plate_DU72.png', 'plate_DV19.png', 'plate_DW64.png', 'plate_DW69.png', 'plate_DW76.png', 'plate_DX63.png', 'plate_DY09.png', 'plate_DY21.png', 'plate_DY38.png', 'plate_DY40.png', 'plate_DZ75.png', 'plate_EB53.png', 'plate_ED46.png', 'plate_ED47.png', 'plate_EE02.png', 'plate_EE15.png', 'plate_EG05.png', 'plate_EG26.png', 'plate_EG32.png', 'plate_EG50.png', 'plate_EG53.png', 'plate_EG98.png', 'plate_EJ21.png', 'plate_EK06.png', 'plate_EK13.png', 'plate_EK50.png', 'plate_EL50.png', 'plate_EM22.png', 'plate_EM71.png', 'plate_EM89.png', 'plate_EN33.png', 'plate_EO55.png', 'plate_EP37.png', 'plate_EP57.png', 'plate_EQ14.png', 'plate_EQ81.png', 'plate_ER13.png', 'plate_ER90.png', 'plate_ES02.png', 'plate_ES38.png', 'plate_ES60.png', 'plate_ES78.png', 'plate_ET05.png', 'plate_ET95.png', 'plate_EV67.png', 'plate_EW80.png', 'plate_EX01.png', 'plate_EX40.png', 'plate_EX58.png', 'plate_EZ21.png', 'plate_EZ81.png', 'plate_FA39.png', 'plate_FA60.png', 'plate_FB51.png', 'plate_FB59.png', 'plate_FB70.png', 'plate_FB74.png', 'plate_FD11.png', 'plate_FD30.png', 'plate_FE14.png', 'plate_FE47.png', 'plate_FE89.png', 'plate_FF37.png', 'plate_FF86.png', 'plate_FG24.png', 'plate_FG96.png', 'plate_FH06.png', 'plate_FH13.png', 'plate_FH21.png', 'plate_FH36.png', 'plate_FH62.png', 'plate_FH84.png', 'plate_FI11.png', 'plate_FJ43.png', 'plate_FK84.png', 'plate_FL14.png', 'plate_FL75.png', 'plate_FO97.png', 'plate_FP49.png', 'plate_FP53.png', 'plate_FP57.png', 'plate_FP92.png', 'plate_FQ18.png', 'plate_FQ63.png', 'plate_FQ85.png', 'plate_FR21.png', 'plate_FR56.png', 'plate_FR72.png', 'plate_FR77.png', 'plate_FR99.png', 'plate_FS66.png', 'plate_FS97.png', 'plate_FT30.png', 'plate_FT32.png', 'plate_FU29.png', 'plate_FU54.png', 'plate_FU68.png', 'plate_FU76.png', 'plate_FU82.png', 'plate_FV68.png', 'plate_FV73.png', 'plate_FW02.png', 'plate_FW31.png', 'plate_GA28.png', 'plate_GA55.png', 'plate_GB00.png', 'plate_GB12.png', 'plate_GB55.png', 'plate_GC37.png', 'plate_GC48.png', 'plate_GC62.png', 'plate_GD35.png', 'plate_GD43.png', 'plate_GD94.png', 'plate_GD99.png', 'plate_GE27.png', 'plate_GF38.png', 'plate_GF86.png', 'plate_GG87.png', 'plate_GH39.png', 'plate_GH68.png', 'plate_GI61.png', 'plate_GJ89.png', 'plate_GK04.png', 'plate_GK61.png', 'plate_GL20.png', 'plate_GL64.png', 'plate_GM23.png', 'plate_GM34.png', 'plate_GP19.png', 'plate_GP76.png', 'plate_GQ64.png', 'plate_GR27.png', 'plate_GS19.png', 'plate_GS36.png', 'plate_GT94.png', 'plate_GV02.png', 'plate_GV69.png', 'plate_GV78.png', 'plate_GW28.png', 'plate_GW63.png', 'plate_GW68.png', 'plate_GW85.png', 'plate_GX54.png', 'plate_GX70.png', 'plate_GX92.png', 'plate_GZ86.png', 'plate_HA57.png', 'plate_HB35.png', 'plate_HC21.png', 'plate_HD95.png', 'plate_HE03.png', 'plate_HE64.png', 'plate_HF38.png', 'plate_HG59.png', 'plate_HH91.png', 'plate_HI11.png', 'plate_HI53.png', 'plate_HK90.png', 'plate_HL26.png', 'plate_HM56.png', 'plate_HM65.png', 'plate_HN15.png', 'plate_HN19.png', 'plate_HN33.png', 'plate_HN48.png', 'plate_HO15.png', 'plate_HO27.png', 'plate_HP79.png', 'plate_HQ67.png', 'plate_HQ91.png', 'plate_HR28.png', 'plate_HS08.png', 'plate_HS76.png', 'plate_HT99.png', 'plate_HU79.png', 'plate_HU82.png', 'plate_HV57.png', 'plate_HW86.png', 'plate_HX40.png', 'plate_HY65.png', 'plate_HY98.png', 'plate_HZ12.png', 'plate_HZ27.png', 'plate_HZ55.png', 'plate_HZ98.png', 'plate_IA24.png', 'plate_IA49.png', 'plate_IA80.png', 'plate_IB07.png', 'plate_IB43.png', 'plate_IB67.png', 'plate_IC34.png', 'plate_IC90.png', 'plate_IC91.png', 'plate_ID03.png', 'plate_ID17.png', 'plate_ID26.png', 'plate_IE85.png', 'plate_IE90.png', 'plate_IF40.png', 'plate_IF61.png', 'plate_IG26.png', 'plate_IG28.png', 'plate_II12.png', 'plate_II93.png', 'plate_IJ86.png', 'plate_IK19.png', 'plate_IK84.png', 'plate_IK88.png', 'plate_IK95.png', 'plate_IL67.png', 'plate_IL95.png', 'plate_IM11.png', 'plate_IM43.png', 'plate_IM47.png', 'plate_IM86.png', 'plate_IN75.png', 'plate_IP45.png', 'plate_IQ13.png', 'plate_IQ37.png', 'plate_IQ42.png', 'plate_IQ61.png', 'plate_IQ66.png', 'plate_IQ97.png', 'plate_IR14.png', 'plate_IR25.png', 'plate_IS61.png', 'plate_IS81.png', 'plate_IT46.png', 'plate_IV08.png', 'plate_IV24.png', 'plate_IW34.png', 'plate_IW37.png', 'plate_IW82.png', 'plate_IW99.png', 'plate_IX08.png', 'plate_IX23.png', 'plate_IX77.png', 'plate_IX93.png', 'plate_IY05.png', 'plate_IY09.png', 'plate_IZ12.png', 'plate_IZ54.png', 'plate_JA77.png', 'plate_JB13.png', 'plate_JB44.png', 'plate_JC26.png', 'plate_JC37.png', 'plate_JC56.png', 'plate_JC69.png', 'plate_JE19.png', 'plate_JE22.png', 'plate_JE46.png', 'plate_JF78.png', 'plate_JH41.png', 'plate_JH57.png', 'plate_JH58.png', 'plate_JH79.png', 'plate_JI56.png', 'plate_JJ40.png', 'plate_JK84.png', 'plate_JK94.png', 'plate_JL22.png', 'plate_JM43.png', 'plate_JM54.png', 'plate_JM89.png', 'plate_JM93.png', 'plate_JN48.png', 'plate_JO98.png', 'plate_JP19.png', 'plate_JP85.png', 'plate_JQ32.png', 'plate_JQ99.png', 'plate_JR36.png', 'plate_JR89.png', 'plate_JS66.png', 'plate_JU05.png', 'plate_JU14.png', 'plate_JU18.png', 'plate_JU56.png', 'plate_JV12.png', 'plate_JV36.png', 'plate_JW48.png', 'plate_JW74.png', 'plate_JY03.png', 'plate_JY49.png', 'plate_JY66.png', 'plate_JY90.png', 'plate_JZ77.png', 'plate_JZ84.png', 'plate_JZ93.png', 'plate_KA20.png', 'plate_KB49.png', 'plate_KC61.png', 'plate_KC63.png', 'plate_KC86.png', 'plate_KC94.png', 'plate_KE65.png', 'plate_KE72.png', 'plate_KF38.png', 'plate_KF97.png', 'plate_KG09.png', 'plate_KG30.png', 'plate_KG56.png', 'plate_KI80.png', 'plate_KJ09.png', 'plate_KJ99.png', 'plate_KL37.png', 'plate_KL54.png', 'plate_KM12.png', 'plate_KM43.png', 'plate_KM86.png', 'plate_KN99.png', 'plate_KO54.png', 'plate_KO86.png', 'plate_KP16.png', 'plate_KQ65.png', 'plate_KR19.png', 'plate_KR29.png', 'plate_KR74.png', 'plate_KS94.png', 'plate_KT28.png', 'plate_KT29.png', 'plate_KT55.png', 'plate_KT78.png', 'plate_KU05.png', 'plate_KU87.png', 'plate_KV58.png', 'plate_KW04.png', 'plate_KW98.png', 'plate_KX31.png', 'plate_KX47.png', 'plate_KX83.png', 'plate_KY36.png', 'plate_KY83.png', 'plate_KY89.png', 'plate_KY92.png', 'plate_KZ12.png', 'plate_KZ17.png', 'plate_KZ24.png', 'plate_KZ68.png', 'plate_KZ88.png', 'plate_KZ91.png', 'plate_LB86.png', 'plate_LB89.png', 'plate_LC03.png', 'plate_LC23.png', 'plate_LC39.png', 'plate_LC76.png', 'plate_LD06.png', 'plate_LD11.png', 'plate_LD66.png', 'plate_LD71.png', 'plate_LE00.png', 'plate_LE54.png', 'plate_LG11.png', 'plate_LH72.png', 'plate_LJ45.png', 'plate_LJ79.png', 'plate_LK56.png', 'plate_LK67.png', 'plate_LK90.png', 'plate_LL17.png', 'plate_LM84.png', 'plate_LM96.png', 'plate_LN09.png', 'plate_LO36.png', 'plate_LQ88.png', 'plate_LR12.png', 'plate_LR40.png', 'plate_LS93.png', 'plate_LT02.png', 'plate_LT09.png', 'plate_LT43.png', 'plate_LU00.png', 'plate_LU25.png', 'plate_LU95.png', 'plate_LV10.png', 'plate_LV25.png', 'plate_LW70.png', 'plate_LX38.png', 'plate_LX75.png', 'plate_LX76.png', 'plate_LY23.png', 'plate_LY30.png', 'plate_LY57.png', 'plate_LZ14.png', 'plate_LZ77.png', 'plate_MB76.png', 'plate_MC06.png', 'plate_MC42.png', 'plate_MD04.png', 'plate_MF30.png', 'plate_MG39.png', 'plate_MG57.png', 'plate_MG80.png', 'plate_MH16.png', 'plate_MH66.png', 'plate_MI83.png', 'plate_MI92.png', 'plate_MJ94.png', 'plate_ML10.png', 'plate_MM41.png', 'plate_MM56.png', 'plate_MM61.png', 'plate_MM70.png', 'plate_MN66.png', 'plate_MN87.png', 'plate_MO31.png', 'plate_MQ19.png', 'plate_MU25.png', 'plate_MV18.png', 'plate_MV25.png', 'plate_MY65.png', 'plate_MZ55.png', 'plate_MZ67.png', 'plate_NB23.png', 'plate_NC87.png', 'plate_NC89.png', 'plate_ND96.png', 'plate_NF11.png', 'plate_NF86.png', 'plate_NF99.png', 'plate_NG64.png', 'plate_NH28.png', 'plate_NH32.png', 'plate_NH81.png', 'plate_NI32.png', 'plate_NI59.png', 'plate_NI98.png', 'plate_NK01.png', 'plate_NK10.png', 'plate_NL87.png', 'plate_NM40.png', 'plate_NM82.png', 'plate_NM95.png', 'plate_NN08.png', 'plate_NN55.png', 'plate_NO35.png', 'plate_NO61.png', 'plate_NO99.png', 'plate_NR20.png', 'plate_NR52.png', 'plate_NR58.png', 'plate_NR97.png', 'plate_NR98.png', 'plate_NS76.png', 'plate_NT96.png', 'plate_NU15.png', 'plate_NU30.png', 'plate_NU63.png', 'plate_NU99.png', 'plate_NV63.png', 'plate_NW26.png', 'plate_NW50.png', 'plate_NW69.png', 'plate_NX23.png', 'plate_NY85.png', 'plate_NY99.png', 'plate_NZ59.png', 'plate_NZ95.png', 'plate_OA06.png', 'plate_OA07.png', 'plate_OA50.png', 'plate_OB38.png', 'plate_OB74.png', 'plate_OC42.png', 'plate_OD56.png', 'plate_OD59.png', 'plate_OE69.png', 'plate_OE75.png', 'plate_OF27.png', 'plate_OF40.png', 'plate_OF41.png', 'plate_OG04.png', 'plate_OG57.png', 'plate_OH88.png', 'plate_OI13.png', 'plate_OI40.png', 'plate_OI82.png', 'plate_OI99.png', 'plate_OJ00.png', 'plate_OJ42.png', 'plate_OJ88.png', 'plate_OJ96.png', 'plate_OK05.png', 'plate_OK12.png', 'plate_OK33.png', 'plate_OL10.png', 'plate_OL92.png', 'plate_OM57.png', 'plate_ON05.png', 'plate_ON46.png', 'plate_ON84.png', 'plate_OO42.png', 'plate_OP11.png', 'plate_OP58.png', 'plate_OP66.png', 'plate_OP72.png', 'plate_OP83.png', 'plate_OQ20.png', 'plate_OQ74.png', 'plate_OQ77.png', 'plate_OT00.png', 'plate_OT57.png', 'plate_OT76.png', 'plate_OU44.png', 'plate_OU63.png', 'plate_OV59.png', 'plate_OV99.png', 'plate_OX04.png', 'plate_OX60.png', 'plate_OX64.png', 'plate_OY96.png', 'plate_OZ69.png', 'plate_OZ86.png', 'plate_PA24.png', 'plate_PA54.png', 'plate_PC24.png', 'plate_PC30.png', 'plate_PD16.png', 'plate_PD75.png', 'plate_PE29.png', 'plate_PF14.png', 'plate_PF90.png', 'plate_PG33.png', 'plate_PG37.png', 'plate_PG42.png', 'plate_PG78.png', 'plate_PG85.png', 'plate_PH40.png', 'plate_PH58.png', 'plate_PH98.png', 'plate_PI52.png', 'plate_PI80.png', 'plate_PJ01.png', 'plate_PJ33.png', 'plate_PJ88.png', 'plate_PK35.png', 'plate_PK46.png', 'plate_PL19.png', 'plate_PM68.png', 'plate_PM76.png', 'plate_PN29.png', 'plate_PP27.png', 'plate_PP90.png', 'plate_PQ56.png', 'plate_PQ61.png', 'plate_PR57.png', 'plate_PR60.png', 'plate_PR81.png', 'plate_PR87.png', 'plate_PT09.png', 'plate_PT43.png', 'plate_PU29.png', 'plate_PU74.png', 'plate_PW91.png', 'plate_PX27.png', 'plate_PX76.png', 'plate_PY06.png', 'plate_PY22.png', 'plate_PY52.png', 'plate_PY66.png', 'plate_PY87.png', 'plate_PZ96.png', 'plate_QA40.png', 'plate_QA66.png', 'plate_QB38.png', 'plate_QB61.png', 'plate_QB88.png', 'plate_QC41.png', 'plate_QC86.png', 'plate_QD33.png', 'plate_QD47.png', 'plate_QD92.png', 'plate_QE12.png', 'plate_QE95.png', 'plate_QF00.png', 'plate_QG10.png', 'plate_QH35.png', 'plate_QJ80.png', 'plate_QM62.png', 'plate_QO01.png', 'plate_QO16.png', 'plate_QO70.png', 'plate_QO92.png', 'plate_QP06.png', 'plate_QP37.png', 'plate_QP68.png', 'plate_QQ31.png', 'plate_QQ82.png', 'plate_QR35.png', 'plate_QS67.png', 'plate_QT08.png', 'plate_QT19.png', 'plate_QT90.png', 'plate_QU17.png', 'plate_QU33.png', 'plate_QW29.png', 'plate_QW52.png', 'plate_QY33.png', 'plate_QY44.png', 'plate_QY74.png', 'plate_QZ26.png', 'plate_QZ52.png', 'plate_RA63.png', 'plate_RA70.png', 'plate_RB04.png', 'plate_RB08.png', 'plate_RB42.png', 'plate_RB48.png', 'plate_RC86.png', 'plate_RD02.png', 'plate_RD20.png', 'plate_RE96.png', 'plate_RF04.png', 'plate_RF08.png', 'plate_RF57.png', 'plate_RG13.png', 'plate_RG41.png', 'plate_RH31.png', 'plate_RH39.png', 'plate_RH41.png', 'plate_RH42.png', 'plate_RH86.png', 'plate_RI18.png', 'plate_RI59.png', 'plate_RJ63.png', 'plate_RJ68.png', 'plate_RJ83.png', 'plate_RL05.png', 'plate_RL23.png', 'plate_RL90.png', 'plate_RM27.png', 'plate_RR22.png', 'plate_RR25.png', 'plate_RS20.png', 'plate_RT03.png', 'plate_RT14.png', 'plate_RT73.png', 'plate_RU11.png', 'plate_RU44.png', 'plate_RU81.png', 'plate_RU82.png', 'plate_RV10.png', 'plate_RV26.png', 'plate_RW56.png', 'plate_RX85.png', 'plate_RZ31.png', 'plate_RZ70.png', 'plate_SA47.png', 'plate_SA75.png', 'plate_SB30.png', 'plate_SB68.png', 'plate_SC26.png', 'plate_SC62.png', 'plate_SD42.png', 'plate_SD50.png', 'plate_SD80.png', 'plate_SD86.png', 'plate_SG23.png', 'plate_SG37.png', 'plate_SG71.png', 'plate_SH22.png', 'plate_SH24.png', 'plate_SH51.png', 'plate_SH59.png', 'plate_SH67.png', 'plate_SI41.png', 'plate_SI52.png', 'plate_SI81.png', 'plate_SJ08.png', 'plate_SJ29.png', 'plate_SJ52.png', 'plate_SJ67.png', 'plate_SJ75.png', 'plate_SK38.png', 'plate_SK65.png', 'plate_SK74.png', 'plate_SL05.png', 'plate_SM96.png', 'plate_SN47.png', 'plate_SP18.png', 'plate_SP48.png', 'plate_SQ83.png', 'plate_SR14.png', 'plate_SR50.png', 'plate_SR61.png', 'plate_SR64.png', 'plate_SR90.png', 'plate_SS34.png', 'plate_SS66.png', 'plate_SS77.png', 'plate_SS88.png', 'plate_SV35.png', 'plate_SW90.png', 'plate_SW94.png', 'plate_SY46.png', 'plate_SY86.png', 'plate_SZ55.png', 'plate_SZ79.png', 'plate_TA26.png', 'plate_TA59.png', 'plate_TA61.png', 'plate_TA62.png', 'plate_TB21.png', 'plate_TB27.png', 'plate_TC85.png', 'plate_TD32.png', 'plate_TD60.png', 'plate_TE56.png', 'plate_TE79.png', 'plate_TE81.png', 'plate_TF17.png', 'plate_TF24.png', 'plate_TF32.png', 'plate_TF43.png', 'plate_TF66.png', 'plate_TG52.png', 'plate_TG98.png', 'plate_TH50.png', 'plate_TI34.png', 'plate_TJ07.png', 'plate_TJ15.png', 'plate_TJ37.png', 'plate_TL22.png', 'plate_TL89.png', 'plate_TL94.png', 'plate_TM77.png', 'plate_TM99.png', 'plate_TN09.png', 'plate_TN38.png', 'plate_TN52.png', 'plate_TO50.png', 'plate_TO69.png', 'plate_TP13.png', 'plate_TQ02.png', 'plate_TQ43.png', 'plate_TR55.png', 'plate_TR67.png', 'plate_TR97.png', 'plate_TS01.png', 'plate_TS52.png', 'plate_TT43.png', 'plate_TU36.png', 'plate_TV20.png', 'plate_TW15.png', 'plate_TW17.png', 'plate_TX41.png', 'plate_TX46.png', 'plate_TZ49.png', 'plate_TZ93.png', 'plate_UA16.png', 'plate_UA47.png', 'plate_UA87.png', 'plate_UB40.png', 'plate_UB99.png', 'plate_UC29.png', 'plate_UC44.png', 'plate_UD00.png', 'plate_UD54.png', 'plate_UE52.png', 'plate_UF21.png', 'plate_UF30.png', 'plate_UF35.png', 'plate_UG73.png', 'plate_UG88.png', 'plate_UH05.png', 'plate_UJ13.png', 'plate_UJ55.png', 'plate_UK94.png', 'plate_UL13.png', 'plate_UM18.png', 'plate_UM55.png', 'plate_UN29.png', 'plate_UN44.png', 'plate_UO01.png', 'plate_UO33.png', 'plate_UO47.png', 'plate_UO87.png', 'plate_UQ15.png', 'plate_UQ59.png', 'plate_UQ67.png', 'plate_UR96.png', 'plate_US38.png', 'plate_UT05.png', 'plate_UT46.png', 'plate_UT60.png', 'plate_UU01.png', 'plate_UU76.png', 'plate_UV19.png', 'plate_UW18.png', 'plate_UW35.png', 'plate_UW53.png', 'plate_UW93.png', 'plate_UX01.png', 'plate_UX63.png', 'plate_UY58.png', 'plate_UY69.png', 'plate_UY81.png', 'plate_UZ84.png', 'plate_VA50.png', 'plate_VA59.png', 'plate_VB65.png', 'plate_VC12.png', 'plate_VD71.png', 'plate_VE42.png', 'plate_VH34.png', 'plate_VH39.png', 'plate_VH43.png', 'plate_VH57.png', 'plate_VI42.png', 'plate_VI64.png', 'plate_VJ23.png', 'plate_VJ41.png', 'plate_VJ44.png', 'plate_VK24.png', 'plate_VK52.png', 'plate_VM18.png', 'plate_VM86.png', 'plate_VN26.png', 'plate_VN55.png', 'plate_VN65.png', 'plate_VN83.png', 'plate_VO00.png', 'plate_VP00.png', 'plate_VP07.png', 'plate_VQ50.png', 'plate_VQ75.png', 'plate_VR49.png', 'plate_VR70.png', 'plate_VR91.png', 'plate_VS54.png', 'plate_VS73.png', 'plate_VU09.png', 'plate_VU93.png', 'plate_VV37.png', 'plate_VV50.png', 'plate_VX06.png', 'plate_VX65.png', 'plate_VY00.png', 'plate_VZ00.png', 'plate_VZ93.png', 'plate_WA61.png', 'plate_WA69.png', 'plate_WB70.png', 'plate_WC50.png', 'plate_WD20.png', 'plate_WD61.png', 'plate_WD79.png', 'plate_WE18.png', 'plate_WG08.png', 'plate_WG98.png', 'plate_WH05.png', 'plate_WH25.png', 'plate_WH39.png', 'plate_WI13.png', 'plate_WJ13.png', 'plate_WJ14.png', 'plate_WJ36.png', 'plate_WJ88.png', 'plate_WL06.png', 'plate_WL23.png', 'plate_WL32.png', 'plate_WM46.png', 'plate_WN24.png', 'plate_WO06.png', 'plate_WP24.png', 'plate_WP68.png', 'plate_WQ10.png', 'plate_WQ54.png', 'plate_WR04.png', 'plate_WR05.png', 'plate_WS11.png', 'plate_WT28.png', 'plate_WU07.png', 'plate_WU63.png', 'plate_WW66.png', 'plate_WX16.png', 'plate_WX37.png', 'plate_WX47.png', 'plate_WX56.png', 'plate_WY43.png', 'plate_WZ27.png', 'plate_WZ81.png', 'plate_XA06.png', 'plate_XA78.png', 'plate_XA84.png', 'plate_XD20.png', 'plate_XD75.png', 'plate_XD87.png', 'plate_XE42.png', 'plate_XE76.png', 'plate_XE89.png', 'plate_XF54.png', 'plate_XG12.png', 'plate_XG80.png', 'plate_XH58.png', 'plate_XI90.png', 'plate_XJ41.png', 'plate_XJ66.png', 'plate_XJ78.png', 'plate_XJ83.png', 'plate_XK63.png', 'plate_XL00.png', 'plate_XL77.png', 'plate_XN39.png', 'plate_XN68.png', 'plate_XN76.png', 'plate_XN98.png', 'plate_XO13.png', 'plate_XO59.png', 'plate_XQ78.png', 'plate_XS36.png', 'plate_XS43.png', 'plate_XS56.png', 'plate_XS69.png', 'plate_XT13.png', 'plate_XT24.png', 'plate_XT69.png', 'plate_XT71.png', 'plate_XT78.png', 'plate_XT86.png', 'plate_XT92.png', 'plate_XU27.png', 'plate_XU29.png', 'plate_XU71.png', 'plate_XV49.png', 'plate_XV95.png', 'plate_XW07.png', 'plate_XX14.png', 'plate_XX60.png', 'plate_XY00.png', 'plate_XY43.png', 'plate_XY44.png', 'plate_XY67.png', 'plate_XZ58.png', 'plate_XZ63.png', 'plate_YA68.png', 'plate_YB00.png', 'plate_YB94.png', 'plate_YC26.png', 'plate_YD73.png', 'plate_YD91.png', 'plate_YE47.png', 'plate_YE81.png', 'plate_YF21.png', 'plate_YF34.png', 'plate_YF38.png', 'plate_YF46.png', 'plate_YF49.png', 'plate_YF82.png', 'plate_YF84.png', 'plate_YF91.png', 'plate_YG34.png', 'plate_YH17.png', 'plate_YH68.png', 'plate_YI26.png', 'plate_YI94.png', 'plate_YJ48.png', 'plate_YK54.png', 'plate_YK68.png', 'plate_YL08.png', 'plate_YN90.png', 'plate_YO50.png', 'plate_YP18.png', 'plate_YP76.png', 'plate_YR32.png', 'plate_YR80.png', 'plate_YS38.png', 'plate_YS68.png', 'plate_YU11.png', 'plate_YU21.png', 'plate_YU62.png', 'plate_YU72.png', 'plate_YV16.png', 'plate_YV57.png', 'plate_YW06.png', 'plate_YW59.png', 'plate_YW68.png', 'plate_YY55.png', 'plate_YZ18.png', 'plate_YZ48.png', 'plate_YZ54.png', 'plate_YZ76.png', 'plate_YZ77.png', 'plate_ZA29.png', 'plate_ZA89.png', 'plate_ZB53.png', 'plate_ZB99.png', 'plate_ZC24.png', 'plate_ZD74.png', 'plate_ZF98.png', 'plate_ZG04.png', 'plate_ZG77.png', 'plate_ZH11.png', 'plate_ZH70.png', 'plate_ZH74.png', 'plate_ZJ52.png', 'plate_ZK00.png', 'plate_ZK02.png', 'plate_ZK49.png', 'plate_ZM70.png', 'plate_ZM85.png', 'plate_ZM86.png', 'plate_ZN61.png', 'plate_ZN88.png', 'plate_ZO70.png', 'plate_ZP01.png', 'plate_ZP96.png', 'plate_ZQ35.png', 'plate_ZQ84.png', 'plate_ZR99.png', 'plate_ZT76.png', 'plate_ZT77.png', 'plate_ZU10.png', 'plate_ZV06.png', 'plate_ZV08.png', 'plate_ZV24.png', 'plate_ZV49.png', 'plate_ZW37.png', 'plate_ZW56.png', 'plate_ZX69.png', 'plate_ZX82.png', 'plate_ZY52.png', 'plate_ZZ41.png']\n"
          ]
        }
      ],
      "source": [
        "def files_in_folder(folder_path):\n",
        "  '''\n",
        "  Returns a list of strings where each entry is a file in the folder_path.\n",
        "  \n",
        "  Parameters\n",
        "  ----------\n",
        "  \n",
        "  folder_path : str\n",
        "     A string to folder for which the file listing is returned.\n",
        "     \n",
        "  '''\n",
        "  files_A = !ls \"{folder_path}\"\n",
        "  # The files when listed from Google Drive have a particular format. They are\n",
        "  # grouped in sets of 4 and have spaces and tabs as delimiters.\n",
        "  \n",
        "  # Split the string listing sets of 4 files by tab and space and remove any \n",
        "  # empty splits.\n",
        "  files_B = [list(filter(None, re.split('\\t|\\s', files))) for files in files_A]\n",
        "  \n",
        "  # Concatenate all splits into a single sorted list\n",
        "  files_C = []\n",
        "  for element in files_B:\n",
        "    files_C = files_C + element\n",
        "  files_C.sort()\n",
        "  \n",
        "  return files_C\n",
        "\n",
        "files = files_in_folder(folder)\n",
        "\n",
        "print(files)"
      ]
    },
    {
      "cell_type": "markdown",
      "source": [
        "## Slice Images"
      ],
      "metadata": {
        "id": "goq2l3tFJb0i"
      }
    },
    {
      "cell_type": "code",
      "execution_count": null,
      "metadata": {
        "id": "B47pjcC15Fc0"
      },
      "outputs": [],
      "source": [
        "#cropping settings\n",
        "top = 100\n",
        "bottom = 220\n",
        "left = 47"
      ]
    },
    {
      "cell_type": "code",
      "execution_count": null,
      "metadata": {
        "id": "xLzTAeoasomQ"
      },
      "outputs": [],
      "source": [
        "value = 0\n",
        "dataset = []\n",
        "\n",
        "for plate in files:\n",
        "  #read and crop plate\n",
        "  path = f\"{folder}/{plate}\"\n",
        "  img = cv2.imread(path, cv2.IMREAD_COLOR)\n",
        "  img = img[top:bottom,left:]\n",
        "  \n",
        "  allchars = \"ABCDEFGHIJKLMNOPQRSTUVWXYZ0123456789\"\n",
        "\n",
        "  #slice every letter\n",
        "  letter1 = [img[:,0:100], allchars.find(path[24])]\n",
        "\n",
        "  letter2 = [img[:,100:200], allchars.find(path[25])]\n",
        "               \n",
        "  letter3 = [img[:,300:400], allchars.find(path[26])]\n",
        "\n",
        "  letter4 = [img[:,400:500], allchars.find(path[27])]\n",
        "\n",
        "  dataset.append(letter1)\n",
        "  dataset.append(letter2)\n",
        "  dataset.append(letter3)\n",
        "  dataset.append(letter4)\n"
      ]
    },
    {
      "cell_type": "code",
      "execution_count": null,
      "metadata": {
        "id": "mXx94JGq69h7"
      },
      "outputs": [],
      "source": [
        "def convert_to_one_hot(Y, C):\n",
        "    Y = np.eye(C)[Y.reshape(-1)].T\n",
        "    return Y"
      ]
    },
    {
      "cell_type": "markdown",
      "source": [
        "## Create Datasets for Neural Net"
      ],
      "metadata": {
        "id": "gDmRuuTEJiUJ"
      }
    },
    {
      "cell_type": "code",
      "source": [
        "# Shuffle the dataset\n",
        "np.random.shuffle(dataset)\n",
        "\n",
        "# Genereate X and Y datasets\n",
        "X_dataset_orig = np.array([data[0] for data in dataset])\n",
        "Y_dataset_orig = np.array([[data[1]] for data in dataset]).T\n",
        "\n",
        "NUMBER_OF_LABELS = 36\n",
        "CONFIDENCE_THRESHOLD = 0.01\n",
        "\n",
        "# Normalize X (images) dataset\n",
        "X_dataset = X_dataset_orig/255.\n",
        "\n",
        "# Convert Y dataset to one-hot encoding\n",
        "Y_dataset = convert_to_one_hot(Y_dataset_orig, NUMBER_OF_LABELS).T\n",
        "\n"
      ],
      "metadata": {
        "id": "f-I-GGUYbV2Z"
      },
      "execution_count": null,
      "outputs": []
    },
    {
      "cell_type": "code",
      "source": [
        "VALIDATION_SPLIT = 0.2\n",
        "\n",
        "print(\"Total examples: {:d}\\nTraining examples: {:d}\\nTest examples: {:d}\".\n",
        "      format(X_dataset.shape[0],\n",
        "             math.ceil(X_dataset.shape[0] * (1-VALIDATION_SPLIT)),\n",
        "             math.floor(X_dataset.shape[0] * VALIDATION_SPLIT)))\n",
        "print(\"X shape: \" + str(X_dataset.shape))\n",
        "print(\"Y shape: \" + str(Y_dataset.shape))"
      ],
      "metadata": {
        "colab": {
          "base_uri": "https://localhost:8080/"
        },
        "id": "6I3m8PJsuO5c",
        "outputId": "295404b6-9434-4f8c-e6db-4df7ef5e88cc"
      },
      "execution_count": null,
      "outputs": [
        {
          "output_type": "stream",
          "name": "stdout",
          "text": [
            "Total examples: 4764\n",
            "Training examples: 3812\n",
            "Test examples: 952\n",
            "X shape: (4764, 120, 100, 3)\n",
            "Y shape: (4764, 36)\n"
          ]
        }
      ]
    },
    {
      "cell_type": "markdown",
      "source": [
        "## Building Neural Net"
      ],
      "metadata": {
        "id": "dDPwBKHaJrK0"
      }
    },
    {
      "cell_type": "code",
      "source": [
        "def reset_weights(model):\n",
        "  for ix, layer in enumerate(model.layers):\n",
        "      if (hasattr(model.layers[ix], 'kernel_initializer') and \n",
        "          hasattr(model.layers[ix], 'bias_initializer')):\n",
        "          weight_initializer = model.layers[ix].kernel_initializer\n",
        "          bias_initializer = model.layers[ix].bias_initializer\n",
        "\n",
        "          old_weights, old_biases = model.layers[ix].get_weights()\n",
        "\n",
        "          model.layers[ix].set_weights([\n",
        "              weight_initializer(shape=old_weights.shape),\n",
        "              bias_initializer(shape=len(old_biases))])"
      ],
      "metadata": {
        "id": "pOGcRKdQxtmQ"
      },
      "execution_count": null,
      "outputs": []
    },
    {
      "cell_type": "code",
      "source": [
        "conv_model = models.Sequential()\n",
        "conv_model.add(layers.Conv2D(32, (3, 3), activation='relu',\n",
        "                             input_shape=(120, 100, 3)))\n",
        "conv_model.add(layers.MaxPooling2D((2, 2)))\n",
        "conv_model.add(layers.Conv2D(64, (3, 3), activation='relu'))\n",
        "conv_model.add(layers.MaxPooling2D((2, 2)))\n",
        "conv_model.add(layers.Flatten())\n",
        "conv_model.add(layers.Dropout(0.5))\n",
        "conv_model.add(layers.Dense(512, activation='relu'))\n",
        "conv_model.add(layers.Dense(36, activation='softmax'))"
      ],
      "metadata": {
        "id": "eK8ARM9Sxw0g"
      },
      "execution_count": null,
      "outputs": []
    },
    {
      "cell_type": "code",
      "source": [
        "conv_model.summary()"
      ],
      "metadata": {
        "id": "g8ZXjTGqx9Z9"
      },
      "execution_count": null,
      "outputs": []
    },
    {
      "cell_type": "code",
      "source": [
        "LEARNING_RATE = 1e-4\n",
        "conv_model.compile(loss='categorical_crossentropy',\n",
        "                   optimizer=optimizers.RMSprop(lr=LEARNING_RATE),\n",
        "                   metrics=['acc'])"
      ],
      "metadata": {
        "id": "OlcDepm1yFHb"
      },
      "execution_count": null,
      "outputs": []
    },
    {
      "cell_type": "markdown",
      "source": [
        "## Reset Weights"
      ],
      "metadata": {
        "id": "gZAfUXDpJ1Mg"
      }
    },
    {
      "cell_type": "code",
      "source": [
        "reset_weights(conv_model)"
      ],
      "metadata": {
        "id": "v8t6JzTYyIBG"
      },
      "execution_count": null,
      "outputs": []
    },
    {
      "cell_type": "markdown",
      "source": [
        "## Train Neural Net"
      ],
      "metadata": {
        "id": "8-ntIQXNJ4nP"
      }
    },
    {
      "cell_type": "code",
      "source": [
        "history_conv = conv_model.fit(X_dataset, Y_dataset, \n",
        "                              validation_split=VALIDATION_SPLIT, \n",
        "                              epochs=20, \n",
        "                              batch_size=16)"
      ],
      "metadata": {
        "id": "OBHCZr3NyLec"
      },
      "execution_count": null,
      "outputs": []
    },
    {
      "cell_type": "code",
      "source": [
        "plt.plot(history_conv.history['loss'])\n",
        "plt.plot(history_conv.history['val_loss'])\n",
        "plt.title('model loss')\n",
        "plt.ylabel('loss')\n",
        "plt.xlabel('epoch')\n",
        "plt.legend(['train loss', 'val loss'], loc='upper left')\n",
        "plt.show()"
      ],
      "metadata": {
        "id": "Fat4XAdfyNpx"
      },
      "execution_count": null,
      "outputs": []
    },
    {
      "cell_type": "code",
      "source": [
        "plt.plot(history_conv.history['acc'])\n",
        "plt.plot(history_conv.history['val_acc'])\n",
        "plt.title('model accuracy')\n",
        "plt.ylabel('accuracy (%)')\n",
        "plt.xlabel('epoch')\n",
        "plt.legend(['train accuracy', 'val accuracy'], loc='upper left')\n",
        "plt.show()"
      ],
      "metadata": {
        "id": "de5lHvl72CkQ"
      },
      "execution_count": null,
      "outputs": []
    },
    {
      "cell_type": "markdown",
      "source": [
        "## Predicting Letters"
      ],
      "metadata": {
        "id": "VRmZwOzAJ-Lv"
      }
    },
    {
      "cell_type": "code",
      "source": [
        "\n",
        "\n",
        "# Display images in the training data set. \n",
        "def displayImage(index):\n",
        "  img = X_dataset[index]\n",
        "  \n",
        "  img_aug = np.expand_dims(img, axis=0)\n",
        "  y_predict = conv_model.predict(img_aug)\n",
        "  \n",
        "  plt.imshow(img)  \n",
        "  \n",
        "  caption = (\"Input: \" + str(allchars[np.argmax(Y_dataset[index])])\n",
        "                            + \"\\nPredicted: \" + str(allchars[np.argmax(y_predict)])\n",
        "                            + \"\\nConfidence: \" + str(np.amax(y_predict)) + \"\\n\") \n",
        "  \n",
        "  plt.text(0.5, 0.5, caption, \n",
        "           color='orange', fontsize = 16,\n",
        "           horizontalalignment='left', verticalalignment='bottom')\n",
        "\n",
        "\n",
        "interact(displayImage, \n",
        "        index=ipywidgets.IntSlider(min=0, max=X_dataset_orig.shape[0],\n",
        "                                   step=1, value=10))\n"
      ],
      "metadata": {
        "id": "qqENm-ZD2MP0"
      },
      "execution_count": null,
      "outputs": []
    }
  ],
  "metadata": {
    "colab": {
      "collapsed_sections": [
        "TASHcorgJANo",
        "44zu-SGYalEw",
        "fMhiYtt7jKvl",
        "RzzzJCMrbP03",
        "goq2l3tFJb0i",
        "gDmRuuTEJiUJ"
      ],
      "provenance": [],
      "toc_visible": true,
      "include_colab_link": true
    },
    "kernelspec": {
      "display_name": "Python 3",
      "name": "python3"
    },
    "accelerator": "GPU"
  },
  "nbformat": 4,
  "nbformat_minor": 0
}